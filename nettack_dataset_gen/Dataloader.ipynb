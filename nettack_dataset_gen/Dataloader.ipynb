{
 "cells": [
  {
   "cell_type": "code",
   "execution_count": 1,
   "metadata": {},
   "outputs": [],
   "source": [
    "from pathlib import Path"
   ]
  },
  {
   "cell_type": "code",
   "execution_count": 50,
   "metadata": {},
   "outputs": [],
   "source": [
    "import torch\n",
    "from torch_geometric.data import InMemoryDataset, Data\n",
    "import pickle\n",
    "from glob import glob"
   ]
  },
  {
   "cell_type": "code",
   "execution_count": 122,
   "metadata": {},
   "outputs": [],
   "source": [
    "class NETTACKDataset(InMemoryDataset):\n",
    "    def __init__(self, root):\n",
    "        super(NETTACKDataset, self).__init__(None, self.transform_data)\n",
    "        \n",
    "        root = Path(root)\n",
    "        self.surrogate_params = pickle.load(open(root / 'surrogate_params.pickle', 'rb'))\n",
    "        \n",
    "        # original values on an unmodified graph\n",
    "        self.og_x = torch.tensor(self.surrogate_params['_X_obs'].todense())\n",
    "        \n",
    "        A = self.surrogate_params['_A_obs']\n",
    "        A = A.tocoo()\n",
    "        row = torch.from_numpy(A.row).to(torch.long)\n",
    "        col = torch.from_numpy(A.col).to(torch.long)\n",
    "        self.og_edge_index = edge_index = torch.stack([row, col], dim=0)\n",
    "        \n",
    "        self.og_y = self.surrogate_params['_z_obs']\n",
    "        \n",
    "        \n",
    "        self.data_paths = sorted(glob(str(root / 'dataset' / '*.pickle')))\n",
    "        self.data, self.slices = self.collate(list(map(self.load_data_object, self.data_paths)))\n",
    "        \n",
    "        \n",
    "    def transform_data(self, data):\n",
    "        data.x = self.og_x.clone()\n",
    "        data.edge_index = self.og_edge_index.clone()\n",
    "        \n",
    "        for feat_pertb, structure_pertb in zip(data.feature_perturbations, data.structure_perturbations):\n",
    "            if feat_pertb != ():\n",
    "                data.x[feat_pertb] = 1 - data.x[feat_pertb]\n",
    "            elif structure_pertb != ():\n",
    "                u, v = structure_pertb\n",
    "                e1_idx = (data.edge_index.T == torch.tensor((u, v))).all(1).nonzero(as_tuple=True)[0]\n",
    "                e2_idx = (data.edge_index.T == torch.tensor((v, u))).all(1).nonzero(as_tuple=True)[0]\n",
    "                \n",
    "                if e1_idx.shape == (0,) and e2_idx.shape == (0,):\n",
    "                    # we need to add the edges\n",
    "                    data.edge_index = torch.cat((\n",
    "                        torch.tensor((u, v)).reshape(2, 1), \n",
    "                        torch.tensor((v, u)).reshape(2, 1),\n",
    "                        data.edge_index\n",
    "                    ), 1)\n",
    "                else:\n",
    "                    # we need to remove the edges\n",
    "                    i = min(e1_idx[0], e2_idx[0])\n",
    "                    j = max(e1_idx[0], e2_idx[0])\n",
    "                    \n",
    "                    data.edge_index = torch.cat((\n",
    "                        data.edge_index[:, :i],\n",
    "                        data.edge_index[:, i+1:j],\n",
    "                        data.edge_index[:, j:]\n",
    "                    ), 1)\n",
    "                \n",
    "        return data\n",
    "        \n",
    "    def load_data_object(self, data_path):\n",
    "        obj = pickle.load(open(data_path, 'rb'))\n",
    "        data = Data(\n",
    "            y=self.og_y, \n",
    "            attacked_node=obj['params']['u'], \n",
    "            structure_perturbations=obj['structure_perturbations'],\n",
    "            feature_perturbations=obj['feature_perturbations'],\n",
    "            direct_attack=obj['params']['direct_attack']\n",
    "        )\n",
    "        return data\n",
    "        "
   ]
  },
  {
   "cell_type": "code",
   "execution_count": 123,
   "metadata": {},
   "outputs": [],
   "source": [
    "ds = NETTACKDataset('.')"
   ]
  },
  {
   "cell_type": "code",
   "execution_count": 125,
   "metadata": {},
   "outputs": [
    {
     "data": {
      "text/plain": [
       "Data(attacked_node=1353, direct_attack=[1], edge_index=[2, 10152], feature_perturbations=[7], structure_perturbations=[7], x=[2485, 1433], y=[5 2 0 ... 2 2 2])"
      ]
     },
     "execution_count": 125,
     "metadata": {},
     "output_type": "execute_result"
    }
   ],
   "source": [
    "ds[12]"
   ]
  },
  {
   "cell_type": "code",
   "execution_count": null,
   "metadata": {},
   "outputs": [],
   "source": []
  }
 ],
 "metadata": {
  "kernelspec": {
   "display_name": "Python 3",
   "language": "python",
   "name": "python3"
  },
  "language_info": {
   "codemirror_mode": {
    "name": "ipython",
    "version": 3
   },
   "file_extension": ".py",
   "mimetype": "text/x-python",
   "name": "python",
   "nbconvert_exporter": "python",
   "pygments_lexer": "ipython3",
   "version": "3.8.5"
  }
 },
 "nbformat": 4,
 "nbformat_minor": 4
}
