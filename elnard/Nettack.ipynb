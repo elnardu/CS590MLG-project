{
 "cells": [
  {
   "cell_type": "code",
   "execution_count": 1,
   "metadata": {},
   "outputs": [],
   "source": [
    "import sys\n",
    "from pathlib import Path\n",
    "\n",
    "import torch\n",
    "import torch.nn.functional as F\n",
    "import torch_geometric.transforms as T\n",
    "from torch_geometric.datasets import Planetoid\n",
    "from torch_geometric.nn import GCNConv\n",
    "from torch_geometric.nn.conv.gcn_conv import gcn_norm\n",
    "\n",
    "sys.path.append(\"..\")\n",
    "\n",
    "from mlg.utils import get_summary_writer"
   ]
  },
  {
   "cell_type": "code",
   "execution_count": 2,
   "metadata": {},
   "outputs": [],
   "source": [
    "dataset = Planetoid(\n",
    "    Path() / \"..\" / \"datasets\" / \"cora\", \"Cora\", transform=T.NormalizeFeatures()\n",
    ")"
   ]
  },
  {
   "cell_type": "markdown",
   "metadata": {},
   "source": [
    "# Surrogate GCN "
   ]
  },
  {
   "cell_type": "code",
   "execution_count": 3,
   "metadata": {},
   "outputs": [],
   "source": [
    "class SurrogateNet(torch.nn.Module):\n",
    "    def __init__(self, num_features, num_classes):\n",
    "        super(SurrogateNet, self).__init__()\n",
    "        self.conv1 = GCNConv(num_features, 16)\n",
    "        self.conv2 = GCNConv(16, num_classes)\n",
    "\n",
    "    def forward(self, data):\n",
    "        x, edge_index = data.x, data.edge_index\n",
    "\n",
    "        # No non-linearity per NETTACK paper\n",
    "        x = self.conv1(x, edge_index)\n",
    "        x = self.conv2(x, edge_index)\n",
    "        return F.log_softmax(x, dim=1)"
   ]
  },
  {
   "cell_type": "code",
   "execution_count": 4,
   "metadata": {},
   "outputs": [],
   "source": [
    "device = torch.device(\"cuda\" if torch.cuda.is_available() else \"cpu\")\n",
    "model = SurrogateNet(dataset.num_features, dataset.num_classes).to(device)\n",
    "\n",
    "data = dataset[0].to(device)\n",
    "\n",
    "optimizer = torch.optim.Adam(\n",
    "    [\n",
    "        dict(params=model.conv1.parameters(), weight_decay=5e-4),\n",
    "        dict(params=model.conv2.parameters(), weight_decay=0),\n",
    "    ],\n",
    "    lr=0.01,\n",
    ")  # Only perform weight-decay on first convolution.\n",
    "writer = get_summary_writer(\"NettackPytorch\")"
   ]
  },
  {
   "cell_type": "code",
   "execution_count": 5,
   "metadata": {},
   "outputs": [],
   "source": [
    "for epoch in range(200):\n",
    "    model.train()\n",
    "    optimizer.zero_grad()\n",
    "    pred = model(data)\n",
    "    label = data.y\n",
    "    loss = F.nll_loss(pred[data.train_mask], label[data.train_mask])\n",
    "    writer.add_scalar(\"Loss/train\", loss, epoch)\n",
    "    loss.backward()\n",
    "    optimizer.step()\n",
    "\n",
    "    with torch.no_grad():\n",
    "        model.eval()\n",
    "        pred = model(data)\n",
    "\n",
    "        pred_train = pred[data.train_mask].max(1)[1]\n",
    "        acc_train = (\n",
    "            pred_train.eq(data.y[data.train_mask]).sum().item()\n",
    "            / data.train_mask.sum().item()\n",
    "        )\n",
    "\n",
    "        pred_val = pred[data.val_mask].max(1)[1]\n",
    "        acc_val = (\n",
    "            pred_val.eq(data.y[data.val_mask]).sum().item() / data.val_mask.sum().item()\n",
    "        )\n",
    "\n",
    "        writer.add_scalar(\"Accuracy/train\", acc_train, epoch)\n",
    "        writer.add_scalar(\"Accuracy/validation\", acc_val, epoch)"
   ]
  },
  {
   "cell_type": "markdown",
   "metadata": {},
   "source": [
    "`model.conv1` and `model.conv2` are `W1` and `W2` per NETTACK paper"
   ]
  },
  {
   "cell_type": "markdown",
   "metadata": {},
   "source": [
    "# Nettack (TODO)"
   ]
  },
  {
   "cell_type": "code",
   "execution_count": 42,
   "metadata": {},
   "outputs": [],
   "source": [
    "n_perturbations = 10\n",
    "perturb_structure = True\n",
    "perturb_features = True\n",
    "direct = True\n",
    "n_influencers = 0\n",
    "delta_cutoff = 0.004\n",
    "\n",
    "attacked_node = 0\n",
    "influencer_nodes = torch.tensor([])  # instagram bad"
   ]
  },
  {
   "cell_type": "code",
   "execution_count": 66,
   "metadata": {},
   "outputs": [],
   "source": [
    "# .detach() disables gradient calculation on the tensor\n",
    "logits = model(data).detach()\n",
    "\n",
    "temp_attacked_logit = logits[attacked_node].clone()\n",
    "temp_attacked_logit[data.y[attacked_node]] = float(\"-inf\")\n",
    "best_wrong_class = temp_attacked_logit.argmax().item()\n",
    "\n",
    "attacked_logit = logits[attacked_node].clone()\n",
    "true_class = data.y[attacked_node]\n",
    "\n",
    "surrogate_loss = (attacked_logit[true_class] - attacked_logit[best_wrong_class]).item()"
   ]
  },
  {
   "cell_type": "code",
   "execution_count": 39,
   "metadata": {},
   "outputs": [
    {
     "data": {
      "text/plain": [
       "tensor([[   0,    0,    0,  ..., 2707, 2707, 2707],\n",
       "        [ 633, 1862, 2582,  ...,  598, 1473, 2706]])"
      ]
     },
     "execution_count": 39,
     "metadata": {},
     "output_type": "execute_result"
    }
   ],
   "source": [
    "data.edge_index"
   ]
  },
  {
   "cell_type": "code",
   "execution_count": null,
   "metadata": {},
   "outputs": [],
   "source": [
    "def get_attacker_nodes():\n",
    "    row, col = data.edge_index\n",
    "    neighbors = col[row == attacked_node]\n",
    "    \n",
    "    "
   ]
  },
  {
   "cell_type": "code",
   "execution_count": null,
   "metadata": {},
   "outputs": [],
   "source": []
  }
 ],
 "metadata": {
  "kernelspec": {
   "display_name": "Python 3",
   "language": "python",
   "name": "python3"
  },
  "language_info": {
   "codemirror_mode": {
    "name": "ipython",
    "version": 3
   },
   "file_extension": ".py",
   "mimetype": "text/x-python",
   "name": "python",
   "nbconvert_exporter": "python",
   "pygments_lexer": "ipython3",
   "version": "3.8.3"
  }
 },
 "nbformat": 4,
 "nbformat_minor": 4
}
