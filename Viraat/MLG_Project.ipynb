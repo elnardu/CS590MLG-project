{
  "nbformat": 4,
  "nbformat_minor": 0,
  "metadata": {
    "colab": {
      "name": "MLG_Project.ipynb",
      "provenance": [],
      "machine_shape": "hm",
      "authorship_tag": "ABX9TyOnEN3DoxBr5Xz3XPVzRuU/",
      "include_colab_link": true
    },
    "kernelspec": {
      "name": "python3",
      "display_name": "Python 3"
    },
    "accelerator": "GPU"
  },
  "cells": [
    {
      "cell_type": "markdown",
      "metadata": {
        "id": "view-in-github",
        "colab_type": "text"
      },
      "source": [
        "<a href=\"https://colab.research.google.com/github/elnardu/CS590MLG-project/blob/master/MLG_Project.ipynb\" target=\"_parent\"><img src=\"https://colab.research.google.com/assets/colab-badge.svg\" alt=\"Open In Colab\"/></a>"
      ]
    },
    {
      "cell_type": "code",
      "metadata": {
        "id": "__9-gapXwuTD",
        "outputId": "3de2c9ce-bd5c-4928-c128-fd6a8b0ef5bb",
        "colab": {
          "base_uri": "https://localhost:8080/"
        }
      },
      "source": [
        "# Installing DeepRobust\n",
        "!git clone https://github.com/DSE-MSU/DeepRobust.git\n",
        "!cd DeepRobust\n",
        "!python setup.py install\n",
        "\n",
        "import os\n",
        "os.chdir(\"/content/DeepRobust\")"
      ],
      "execution_count": 1,
      "outputs": [
        {
          "output_type": "stream",
          "text": [
            "fatal: destination path 'DeepRobust' already exists and is not an empty directory.\n",
            "python3: can't open file 'setup.py': [Errno 2] No such file or directory\n"
          ],
          "name": "stdout"
        }
      ]
    },
    {
      "cell_type": "code",
      "metadata": {
        "id": "LcxPn9WTthmb",
        "outputId": "623e1d1d-81b0-4311-dfc4-c32c7e86438a",
        "colab": {
          "base_uri": "https://localhost:8080/"
        }
      },
      "source": [
        "\n",
        "import torch\n",
        "import numpy as np\n",
        "from deeprobust.graph.data import Dataset\n",
        "from deeprobust.graph.defense import GCN\n",
        "from deeprobust.graph.global_attack import Metattack\n",
        "\n",
        "data = Dataset(root='/tmp/', name='cora', setting='nettack')\n",
        "adj, features, labels = data.adj, data.features, data.labels\n",
        "idx_train, idx_val, idx_test = data.idx_train, data.idx_val, data.idx_test\n",
        "idx_unlabeled = np.union1d(idx_val, idx_test)"
      ],
      "execution_count": 2,
      "outputs": [
        {
          "output_type": "stream",
          "text": [
            "Loading cora dataset...\n",
            "Selecting 1 largest connected components\n"
          ],
          "name": "stdout"
        }
      ]
    },
    {
      "cell_type": "code",
      "metadata": {
        "id": "FRNsOsEKvyHn"
      },
      "source": [
        "# Surrogate model\n",
        "\n",
        "device = torch.device(\"cuda:0\" if torch.cuda.is_available() else \"cpu\")\n",
        "surrogate = GCN(nfeat=features.shape[1], nclass=labels.max().item()+1, nhid=16,\n",
        "                with_relu=False, device=device)\n",
        "surrogate = surrogate.to(device)\n",
        "surrogate.fit(features, adj, labels, idx_train)\n"
      ],
      "execution_count": 3,
      "outputs": []
    },
    {
      "cell_type": "code",
      "metadata": {
        "id": "w9JxJ6w1v_an",
        "outputId": "b8442c23-d25e-4e93-bb43-2ef23af94e92",
        "colab": {
          "base_uri": "https://localhost:8080/"
        }
      },
      "source": [
        "# set up attack model and generate perturbations\n",
        "\n",
        "model = Metattack(model=surrogate, nnodes=adj.shape[0], feature_shape=features.shape, device=device)\n",
        "model = model.to(device)\n",
        "perturbations = int(0.05 * (adj.sum() // 2))\n",
        "model.attack(features, adj, labels, idx_train, idx_unlabeled, perturbations, ll_constraint=False)\n",
        "modified_adj = model.modified_adj"
      ],
      "execution_count": 4,
      "outputs": [
        {
          "output_type": "stream",
          "text": [
            "\rPerturbing graph:   0%|          | 0/253 [00:00<?, ?it/s]"
          ],
          "name": "stderr"
        },
        {
          "output_type": "stream",
          "text": [
            "GCN loss on unlabled data: 0.5571807026863098\n",
            "GCN acc on unlabled data: 0.835493965131873\n",
            "attack loss: 0.19629019498825073\n"
          ],
          "name": "stdout"
        },
        {
          "output_type": "stream",
          "text": [
            "\rPerturbing graph:   0%|          | 1/253 [00:00<02:30,  1.68it/s]"
          ],
          "name": "stderr"
        },
        {
          "output_type": "stream",
          "text": [
            "GCN loss on unlabled data: 0.5536941289901733\n",
            "GCN acc on unlabled data: 0.8310236924452392\n",
            "attack loss: 0.21248552203178406\n"
          ],
          "name": "stdout"
        },
        {
          "output_type": "stream",
          "text": [
            "\rPerturbing graph:   1%|          | 2/253 [00:01<02:26,  1.71it/s]"
          ],
          "name": "stderr"
        },
        {
          "output_type": "stream",
          "text": [
            "GCN loss on unlabled data: 0.5487712621688843\n",
            "GCN acc on unlabled data: 0.835493965131873\n",
            "attack loss: 0.19859716296195984\n"
          ],
          "name": "stdout"
        },
        {
          "output_type": "stream",
          "text": [
            "\rPerturbing graph:   1%|          | 3/253 [00:01<02:23,  1.75it/s]"
          ],
          "name": "stderr"
        },
        {
          "output_type": "stream",
          "text": [
            "GCN loss on unlabled data: 0.5276250839233398\n",
            "GCN acc on unlabled data: 0.8408582923558338\n",
            "attack loss: 0.20306508243083954\n"
          ],
          "name": "stdout"
        },
        {
          "output_type": "stream",
          "text": [
            "\rPerturbing graph:   2%|▏         | 4/253 [00:02<02:20,  1.78it/s]"
          ],
          "name": "stderr"
        },
        {
          "output_type": "stream",
          "text": [
            "GCN loss on unlabled data: 0.5271831750869751\n",
            "GCN acc on unlabled data: 0.8408582923558338\n",
            "attack loss: 0.20389403402805328\n"
          ],
          "name": "stdout"
        },
        {
          "output_type": "stream",
          "text": [
            "\rPerturbing graph:   2%|▏         | 5/253 [00:02<02:18,  1.79it/s]"
          ],
          "name": "stderr"
        },
        {
          "output_type": "stream",
          "text": [
            "GCN loss on unlabled data: 0.5471979975700378\n",
            "GCN acc on unlabled data: 0.8363880196691998\n",
            "attack loss: 0.2076718509197235\n"
          ],
          "name": "stdout"
        },
        {
          "output_type": "stream",
          "text": [
            "\rPerturbing graph:   2%|▏         | 6/253 [00:03<02:17,  1.80it/s]"
          ],
          "name": "stderr"
        },
        {
          "output_type": "stream",
          "text": [
            "GCN loss on unlabled data: 0.543383002281189\n",
            "GCN acc on unlabled data: 0.8350469378632097\n",
            "attack loss: 0.21108096837997437\n"
          ],
          "name": "stdout"
        },
        {
          "output_type": "stream",
          "text": [
            "\rPerturbing graph:   3%|▎         | 7/253 [00:03<02:16,  1.80it/s]"
          ],
          "name": "stderr"
        },
        {
          "output_type": "stream",
          "text": [
            "GCN loss on unlabled data: 0.5317268967628479\n",
            "GCN acc on unlabled data: 0.83772910147519\n",
            "attack loss: 0.2063961923122406\n"
          ],
          "name": "stdout"
        },
        {
          "output_type": "stream",
          "text": [
            "\rPerturbing graph:   3%|▎         | 8/253 [00:04<02:15,  1.80it/s]"
          ],
          "name": "stderr"
        },
        {
          "output_type": "stream",
          "text": [
            "GCN loss on unlabled data: 0.5569086074829102\n",
            "GCN acc on unlabled data: 0.8305766651765758\n",
            "attack loss: 0.2166321873664856\n"
          ],
          "name": "stdout"
        },
        {
          "output_type": "stream",
          "text": [
            "\rPerturbing graph:   4%|▎         | 9/253 [00:04<02:15,  1.80it/s]"
          ],
          "name": "stderr"
        },
        {
          "output_type": "stream",
          "text": [
            "GCN loss on unlabled data: 0.5545109510421753\n",
            "GCN acc on unlabled data: 0.8337058560572195\n",
            "attack loss: 0.2198881357908249\n"
          ],
          "name": "stdout"
        },
        {
          "output_type": "stream",
          "text": [
            "\rPerturbing graph:   4%|▍         | 10/253 [00:05<02:15,  1.80it/s]"
          ],
          "name": "stderr"
        },
        {
          "output_type": "stream",
          "text": [
            "GCN loss on unlabled data: 0.5267466306686401\n",
            "GCN acc on unlabled data: 0.8404112650871703\n",
            "attack loss: 0.20348916947841644\n"
          ],
          "name": "stdout"
        },
        {
          "output_type": "stream",
          "text": [
            "\rPerturbing graph:   4%|▍         | 11/253 [00:06<02:15,  1.79it/s]"
          ],
          "name": "stderr"
        },
        {
          "output_type": "stream",
          "text": [
            "GCN loss on unlabled data: 0.5682111382484436\n",
            "GCN acc on unlabled data: 0.8319177469825659\n",
            "attack loss: 0.21392658352851868\n"
          ],
          "name": "stdout"
        },
        {
          "output_type": "stream",
          "text": [
            "\rPerturbing graph:   5%|▍         | 12/253 [00:06<02:14,  1.79it/s]"
          ],
          "name": "stderr"
        },
        {
          "output_type": "stream",
          "text": [
            "GCN loss on unlabled data: 0.5535745620727539\n",
            "GCN acc on unlabled data: 0.8341528833258829\n",
            "attack loss: 0.21980559825897217\n"
          ],
          "name": "stdout"
        },
        {
          "output_type": "stream",
          "text": [
            "\rPerturbing graph:   5%|▌         | 13/253 [00:07<02:13,  1.79it/s]"
          ],
          "name": "stderr"
        },
        {
          "output_type": "stream",
          "text": [
            "GCN loss on unlabled data: 0.5430573225021362\n",
            "GCN acc on unlabled data: 0.8274474742959321\n",
            "attack loss: 0.2285630851984024\n"
          ],
          "name": "stdout"
        },
        {
          "output_type": "stream",
          "text": [
            "\rPerturbing graph:   6%|▌         | 14/253 [00:07<02:12,  1.80it/s]"
          ],
          "name": "stderr"
        },
        {
          "output_type": "stream",
          "text": [
            "GCN loss on unlabled data: 0.5605995059013367\n",
            "GCN acc on unlabled data: 0.8386231560125168\n",
            "attack loss: 0.23382732272148132\n"
          ],
          "name": "stdout"
        },
        {
          "output_type": "stream",
          "text": [
            "\rPerturbing graph:   6%|▌         | 15/253 [00:08<02:11,  1.81it/s]"
          ],
          "name": "stderr"
        },
        {
          "output_type": "stream",
          "text": [
            "GCN loss on unlabled data: 0.5659628510475159\n",
            "GCN acc on unlabled data: 0.8292355833705857\n",
            "attack loss: 0.21926671266555786\n"
          ],
          "name": "stdout"
        },
        {
          "output_type": "stream",
          "text": [
            "\rPerturbing graph:   6%|▋         | 16/253 [00:08<02:11,  1.80it/s]"
          ],
          "name": "stderr"
        },
        {
          "output_type": "stream",
          "text": [
            "GCN loss on unlabled data: 0.5599914193153381\n",
            "GCN acc on unlabled data: 0.8229772016092982\n",
            "attack loss: 0.22496289014816284\n"
          ],
          "name": "stdout"
        },
        {
          "output_type": "stream",
          "text": [
            "\rPerturbing graph:   7%|▋         | 17/253 [00:09<02:11,  1.80it/s]"
          ],
          "name": "stderr"
        },
        {
          "output_type": "stream",
          "text": [
            "GCN loss on unlabled data: 0.5447139739990234\n",
            "GCN acc on unlabled data: 0.8328118015198928\n",
            "attack loss: 0.22372904419898987\n"
          ],
          "name": "stdout"
        },
        {
          "output_type": "stream",
          "text": [
            "\rPerturbing graph:   7%|▋         | 18/253 [00:10<02:11,  1.79it/s]"
          ],
          "name": "stderr"
        },
        {
          "output_type": "stream",
          "text": [
            "GCN loss on unlabled data: 0.5749019980430603\n",
            "GCN acc on unlabled data: 0.8310236924452392\n",
            "attack loss: 0.25317832827568054\n"
          ],
          "name": "stdout"
        },
        {
          "output_type": "stream",
          "text": [
            "\rPerturbing graph:   8%|▊         | 19/253 [00:10<02:11,  1.79it/s]"
          ],
          "name": "stderr"
        },
        {
          "output_type": "stream",
          "text": [
            "GCN loss on unlabled data: 0.5403287410736084\n",
            "GCN acc on unlabled data: 0.8292355833705857\n",
            "attack loss: 0.2146296203136444\n"
          ],
          "name": "stdout"
        },
        {
          "output_type": "stream",
          "text": [
            "\rPerturbing graph:   8%|▊         | 20/253 [00:11<02:10,  1.79it/s]"
          ],
          "name": "stderr"
        },
        {
          "output_type": "stream",
          "text": [
            "GCN loss on unlabled data: 0.5566803812980652\n",
            "GCN acc on unlabled data: 0.8310236924452392\n",
            "attack loss: 0.2328476458787918\n"
          ],
          "name": "stdout"
        },
        {
          "output_type": "stream",
          "text": [
            "\rPerturbing graph:   8%|▊         | 21/253 [00:11<02:10,  1.78it/s]"
          ],
          "name": "stderr"
        },
        {
          "output_type": "stream",
          "text": [
            "GCN loss on unlabled data: 0.5996072888374329\n",
            "GCN acc on unlabled data: 0.8167188198480108\n",
            "attack loss: 0.24654753506183624\n"
          ],
          "name": "stdout"
        },
        {
          "output_type": "stream",
          "text": [
            "\rPerturbing graph:   9%|▊         | 22/253 [00:12<02:10,  1.77it/s]"
          ],
          "name": "stderr"
        },
        {
          "output_type": "stream",
          "text": [
            "GCN loss on unlabled data: 0.595641016960144\n",
            "GCN acc on unlabled data: 0.8189539561913277\n",
            "attack loss: 0.23662221431732178\n"
          ],
          "name": "stdout"
        },
        {
          "output_type": "stream",
          "text": [
            "\rPerturbing graph:   9%|▉         | 23/253 [00:12<02:10,  1.76it/s]"
          ],
          "name": "stderr"
        },
        {
          "output_type": "stream",
          "text": [
            "GCN loss on unlabled data: 0.5718101859092712\n",
            "GCN acc on unlabled data: 0.8265534197586053\n",
            "attack loss: 0.23919540643692017\n"
          ],
          "name": "stdout"
        },
        {
          "output_type": "stream",
          "text": [
            "\rPerturbing graph:   9%|▉         | 24/253 [00:13<02:10,  1.76it/s]"
          ],
          "name": "stderr"
        },
        {
          "output_type": "stream",
          "text": [
            "GCN loss on unlabled data: 0.5777056217193604\n",
            "GCN acc on unlabled data: 0.8194009834599911\n",
            "attack loss: 0.2429044395685196\n"
          ],
          "name": "stdout"
        },
        {
          "output_type": "stream",
          "text": [
            "\rPerturbing graph:  10%|▉         | 25/253 [00:14<02:10,  1.75it/s]"
          ],
          "name": "stderr"
        },
        {
          "output_type": "stream",
          "text": [
            "GCN loss on unlabled data: 0.5699222087860107\n",
            "GCN acc on unlabled data: 0.829682610639249\n",
            "attack loss: 0.2473115175962448\n"
          ],
          "name": "stdout"
        },
        {
          "output_type": "stream",
          "text": [
            "\rPerturbing graph:  10%|█         | 26/253 [00:14<02:10,  1.74it/s]"
          ],
          "name": "stderr"
        },
        {
          "output_type": "stream",
          "text": [
            "GCN loss on unlabled data: 0.5818454027175903\n",
            "GCN acc on unlabled data: 0.8211890925346447\n",
            "attack loss: 0.2540491819381714\n"
          ],
          "name": "stdout"
        },
        {
          "output_type": "stream",
          "text": [
            "\rPerturbing graph:  11%|█         | 27/253 [00:15<02:09,  1.74it/s]"
          ],
          "name": "stderr"
        },
        {
          "output_type": "stream",
          "text": [
            "GCN loss on unlabled data: 0.578606367111206\n",
            "GCN acc on unlabled data: 0.8229772016092982\n",
            "attack loss: 0.2448534369468689\n"
          ],
          "name": "stdout"
        },
        {
          "output_type": "stream",
          "text": [
            "\rPerturbing graph:  11%|█         | 28/253 [00:15<02:09,  1.74it/s]"
          ],
          "name": "stderr"
        },
        {
          "output_type": "stream",
          "text": [
            "GCN loss on unlabled data: 0.5786522626876831\n",
            "GCN acc on unlabled data: 0.8225301743406348\n",
            "attack loss: 0.2515801191329956\n"
          ],
          "name": "stdout"
        },
        {
          "output_type": "stream",
          "text": [
            "\rPerturbing graph:  11%|█▏        | 29/253 [00:16<02:09,  1.73it/s]"
          ],
          "name": "stderr"
        },
        {
          "output_type": "stream",
          "text": [
            "GCN loss on unlabled data: 0.545362651348114\n",
            "GCN acc on unlabled data: 0.8345999105945463\n",
            "attack loss: 0.23533158004283905\n"
          ],
          "name": "stdout"
        },
        {
          "output_type": "stream",
          "text": [
            "\rPerturbing graph:  12%|█▏        | 30/253 [00:16<02:08,  1.74it/s]"
          ],
          "name": "stderr"
        },
        {
          "output_type": "stream",
          "text": [
            "GCN loss on unlabled data: 0.595726728439331\n",
            "GCN acc on unlabled data: 0.8185069289226643\n",
            "attack loss: 0.25632596015930176\n"
          ],
          "name": "stdout"
        },
        {
          "output_type": "stream",
          "text": [
            "\rPerturbing graph:  12%|█▏        | 31/253 [00:17<02:07,  1.74it/s]"
          ],
          "name": "stderr"
        },
        {
          "output_type": "stream",
          "text": [
            "GCN loss on unlabled data: 0.6023562550544739\n",
            "GCN acc on unlabled data: 0.8135896289673671\n",
            "attack loss: 0.2623448967933655\n"
          ],
          "name": "stdout"
        },
        {
          "output_type": "stream",
          "text": [
            "\rPerturbing graph:  13%|█▎        | 32/253 [00:18<02:06,  1.74it/s]"
          ],
          "name": "stderr"
        },
        {
          "output_type": "stream",
          "text": [
            "GCN loss on unlabled data: 0.5838499069213867\n",
            "GCN acc on unlabled data: 0.8261063924899419\n",
            "attack loss: 0.25589436292648315\n"
          ],
          "name": "stdout"
        },
        {
          "output_type": "stream",
          "text": [
            "\rPerturbing graph:  13%|█▎        | 33/253 [00:18<02:06,  1.74it/s]"
          ],
          "name": "stderr"
        },
        {
          "output_type": "stream",
          "text": [
            "GCN loss on unlabled data: 0.5743545889854431\n",
            "GCN acc on unlabled data: 0.8252123379526152\n",
            "attack loss: 0.26019591093063354\n"
          ],
          "name": "stdout"
        },
        {
          "output_type": "stream",
          "text": [
            "\rPerturbing graph:  13%|█▎        | 34/253 [00:19<02:05,  1.74it/s]"
          ],
          "name": "stderr"
        },
        {
          "output_type": "stream",
          "text": [
            "GCN loss on unlabled data: 0.5607611536979675\n",
            "GCN acc on unlabled data: 0.8238712561466249\n",
            "attack loss: 0.24752239882946014\n"
          ],
          "name": "stdout"
        },
        {
          "output_type": "stream",
          "text": [
            "\rPerturbing graph:  14%|█▍        | 35/253 [00:19<02:05,  1.74it/s]"
          ],
          "name": "stderr"
        },
        {
          "output_type": "stream",
          "text": [
            "GCN loss on unlabled data: 0.5928449630737305\n",
            "GCN acc on unlabled data: 0.8229772016092982\n",
            "attack loss: 0.2578965425491333\n"
          ],
          "name": "stdout"
        },
        {
          "output_type": "stream",
          "text": [
            "\rPerturbing graph:  14%|█▍        | 36/253 [00:20<02:04,  1.74it/s]"
          ],
          "name": "stderr"
        },
        {
          "output_type": "stream",
          "text": [
            "GCN loss on unlabled data: 0.5477941632270813\n",
            "GCN acc on unlabled data: 0.8305766651765758\n",
            "attack loss: 0.2580375075340271\n"
          ],
          "name": "stdout"
        },
        {
          "output_type": "stream",
          "text": [
            "\rPerturbing graph:  15%|█▍        | 37/253 [00:20<02:03,  1.74it/s]"
          ],
          "name": "stderr"
        },
        {
          "output_type": "stream",
          "text": [
            "GCN loss on unlabled data: 0.5795674920082092\n",
            "GCN acc on unlabled data: 0.8292355833705857\n",
            "attack loss: 0.2486012578010559\n"
          ],
          "name": "stdout"
        },
        {
          "output_type": "stream",
          "text": [
            "\rPerturbing graph:  15%|█▌        | 38/253 [00:21<02:03,  1.74it/s]"
          ],
          "name": "stderr"
        },
        {
          "output_type": "stream",
          "text": [
            "GCN loss on unlabled data: 0.5764996409416199\n",
            "GCN acc on unlabled data: 0.8261063924899419\n",
            "attack loss: 0.2533591687679291\n"
          ],
          "name": "stdout"
        },
        {
          "output_type": "stream",
          "text": [
            "\rPerturbing graph:  15%|█▌        | 39/253 [00:22<02:03,  1.74it/s]"
          ],
          "name": "stderr"
        },
        {
          "output_type": "stream",
          "text": [
            "GCN loss on unlabled data: 0.5837281346321106\n",
            "GCN acc on unlabled data: 0.8211890925346447\n",
            "attack loss: 0.2560284733772278\n"
          ],
          "name": "stdout"
        },
        {
          "output_type": "stream",
          "text": [
            "\rPerturbing graph:  16%|█▌        | 40/253 [00:22<02:01,  1.75it/s]"
          ],
          "name": "stderr"
        },
        {
          "output_type": "stream",
          "text": [
            "GCN loss on unlabled data: 0.569998025894165\n",
            "GCN acc on unlabled data: 0.8238712561466249\n",
            "attack loss: 0.25797730684280396\n"
          ],
          "name": "stdout"
        },
        {
          "output_type": "stream",
          "text": [
            "\rPerturbing graph:  16%|█▌        | 41/253 [00:23<02:01,  1.75it/s]"
          ],
          "name": "stderr"
        },
        {
          "output_type": "stream",
          "text": [
            "GCN loss on unlabled data: 0.5975555777549744\n",
            "GCN acc on unlabled data: 0.8243182834152883\n",
            "attack loss: 0.26134955883026123\n"
          ],
          "name": "stdout"
        },
        {
          "output_type": "stream",
          "text": [
            "\rPerturbing graph:  17%|█▋        | 42/253 [00:23<01:59,  1.76it/s]"
          ],
          "name": "stderr"
        },
        {
          "output_type": "stream",
          "text": [
            "GCN loss on unlabled data: 0.576705276966095\n",
            "GCN acc on unlabled data: 0.8207420652659813\n",
            "attack loss: 0.2633434236049652\n"
          ],
          "name": "stdout"
        },
        {
          "output_type": "stream",
          "text": [
            "\rPerturbing graph:  17%|█▋        | 43/253 [00:24<01:57,  1.79it/s]"
          ],
          "name": "stderr"
        },
        {
          "output_type": "stream",
          "text": [
            "GCN loss on unlabled data: 0.6176402568817139\n",
            "GCN acc on unlabled data: 0.8176128743853376\n",
            "attack loss: 0.2616286873817444\n"
          ],
          "name": "stdout"
        },
        {
          "output_type": "stream",
          "text": [
            "\rPerturbing graph:  17%|█▋        | 44/253 [00:24<01:55,  1.81it/s]"
          ],
          "name": "stderr"
        },
        {
          "output_type": "stream",
          "text": [
            "GCN loss on unlabled data: 0.5998727083206177\n",
            "GCN acc on unlabled data: 0.8220831470719714\n",
            "attack loss: 0.27285099029541016\n"
          ],
          "name": "stdout"
        },
        {
          "output_type": "stream",
          "text": [
            "\rPerturbing graph:  18%|█▊        | 45/253 [00:25<01:54,  1.81it/s]"
          ],
          "name": "stderr"
        },
        {
          "output_type": "stream",
          "text": [
            "GCN loss on unlabled data: 0.5931227803230286\n",
            "GCN acc on unlabled data: 0.8247653106839518\n",
            "attack loss: 0.2779589295387268\n"
          ],
          "name": "stdout"
        },
        {
          "output_type": "stream",
          "text": [
            "\rPerturbing graph:  18%|█▊        | 46/253 [00:25<01:53,  1.83it/s]"
          ],
          "name": "stderr"
        },
        {
          "output_type": "stream",
          "text": [
            "GCN loss on unlabled data: 0.5930185914039612\n",
            "GCN acc on unlabled data: 0.8202950379973178\n",
            "attack loss: 0.26003220677375793\n"
          ],
          "name": "stdout"
        },
        {
          "output_type": "stream",
          "text": [
            "\rPerturbing graph:  19%|█▊        | 47/253 [00:26<01:52,  1.83it/s]"
          ],
          "name": "stderr"
        },
        {
          "output_type": "stream",
          "text": [
            "GCN loss on unlabled data: 0.6077009439468384\n",
            "GCN acc on unlabled data: 0.8176128743853376\n",
            "attack loss: 0.2686093747615814\n"
          ],
          "name": "stdout"
        },
        {
          "output_type": "stream",
          "text": [
            "\rPerturbing graph:  19%|█▉        | 48/253 [00:27<01:52,  1.83it/s]"
          ],
          "name": "stderr"
        },
        {
          "output_type": "stream",
          "text": [
            "GCN loss on unlabled data: 0.611188530921936\n",
            "GCN acc on unlabled data: 0.8158247653106839\n",
            "attack loss: 0.2859206199645996\n"
          ],
          "name": "stdout"
        },
        {
          "output_type": "stream",
          "text": [
            "\rPerturbing graph:  19%|█▉        | 49/253 [00:27<01:52,  1.82it/s]"
          ],
          "name": "stderr"
        },
        {
          "output_type": "stream",
          "text": [
            "GCN loss on unlabled data: 0.5756346583366394\n",
            "GCN acc on unlabled data: 0.8207420652659813\n",
            "attack loss: 0.2743169963359833\n"
          ],
          "name": "stdout"
        },
        {
          "output_type": "stream",
          "text": [
            "\rPerturbing graph:  20%|█▉        | 50/253 [00:28<01:51,  1.82it/s]"
          ],
          "name": "stderr"
        },
        {
          "output_type": "stream",
          "text": [
            "GCN loss on unlabled data: 0.5952306985855103\n",
            "GCN acc on unlabled data: 0.8185069289226643\n",
            "attack loss: 0.2547908425331116\n"
          ],
          "name": "stdout"
        },
        {
          "output_type": "stream",
          "text": [
            "\rPerturbing graph:  20%|██        | 51/253 [00:28<01:52,  1.80it/s]"
          ],
          "name": "stderr"
        },
        {
          "output_type": "stream",
          "text": [
            "GCN loss on unlabled data: 0.5886908769607544\n",
            "GCN acc on unlabled data: 0.8265534197586053\n",
            "attack loss: 0.27722105383872986\n"
          ],
          "name": "stdout"
        },
        {
          "output_type": "stream",
          "text": [
            "\rPerturbing graph:  21%|██        | 52/253 [00:29<01:52,  1.78it/s]"
          ],
          "name": "stderr"
        },
        {
          "output_type": "stream",
          "text": [
            "GCN loss on unlabled data: 0.603467583656311\n",
            "GCN acc on unlabled data: 0.8283415288332588\n",
            "attack loss: 0.2764873504638672\n"
          ],
          "name": "stdout"
        },
        {
          "output_type": "stream",
          "text": [
            "\rPerturbing graph:  21%|██        | 53/253 [00:29<01:52,  1.78it/s]"
          ],
          "name": "stderr"
        },
        {
          "output_type": "stream",
          "text": [
            "GCN loss on unlabled data: 0.6004645824432373\n",
            "GCN acc on unlabled data: 0.8126955744300403\n",
            "attack loss: 0.2605379521846771\n"
          ],
          "name": "stdout"
        },
        {
          "output_type": "stream",
          "text": [
            "\rPerturbing graph:  21%|██▏       | 54/253 [00:30<01:52,  1.77it/s]"
          ],
          "name": "stderr"
        },
        {
          "output_type": "stream",
          "text": [
            "GCN loss on unlabled data: 0.5881876349449158\n",
            "GCN acc on unlabled data: 0.8167188198480108\n",
            "attack loss: 0.26536425948143005\n"
          ],
          "name": "stdout"
        },
        {
          "output_type": "stream",
          "text": [
            "\rPerturbing graph:  22%|██▏       | 55/253 [00:30<01:52,  1.76it/s]"
          ],
          "name": "stderr"
        },
        {
          "output_type": "stream",
          "text": [
            "GCN loss on unlabled data: 0.6330434083938599\n",
            "GCN acc on unlabled data: 0.8207420652659813\n",
            "attack loss: 0.3020080327987671\n"
          ],
          "name": "stdout"
        },
        {
          "output_type": "stream",
          "text": [
            "\rPerturbing graph:  22%|██▏       | 56/253 [00:31<01:52,  1.75it/s]"
          ],
          "name": "stderr"
        },
        {
          "output_type": "stream",
          "text": [
            "GCN loss on unlabled data: 0.5923359394073486\n",
            "GCN acc on unlabled data: 0.8265534197586053\n",
            "attack loss: 0.2740746736526489\n"
          ],
          "name": "stdout"
        },
        {
          "output_type": "stream",
          "text": [
            "\rPerturbing graph:  23%|██▎       | 57/253 [00:32<01:51,  1.76it/s]"
          ],
          "name": "stderr"
        },
        {
          "output_type": "stream",
          "text": [
            "GCN loss on unlabled data: 0.6041373014450073\n",
            "GCN acc on unlabled data: 0.8207420652659813\n",
            "attack loss: 0.2658182382583618\n"
          ],
          "name": "stdout"
        },
        {
          "output_type": "stream",
          "text": [
            "\rPerturbing graph:  23%|██▎       | 58/253 [00:32<01:51,  1.75it/s]"
          ],
          "name": "stderr"
        },
        {
          "output_type": "stream",
          "text": [
            "GCN loss on unlabled data: 0.6280552744865417\n",
            "GCN acc on unlabled data: 0.8153777380420206\n",
            "attack loss: 0.30578967928886414\n"
          ],
          "name": "stdout"
        },
        {
          "output_type": "stream",
          "text": [
            "\rPerturbing graph:  23%|██▎       | 59/253 [00:33<01:51,  1.75it/s]"
          ],
          "name": "stderr"
        },
        {
          "output_type": "stream",
          "text": [
            "GCN loss on unlabled data: 0.6244158744812012\n",
            "GCN acc on unlabled data: 0.8158247653106839\n",
            "attack loss: 0.2839810252189636\n"
          ],
          "name": "stdout"
        },
        {
          "output_type": "stream",
          "text": [
            "\rPerturbing graph:  24%|██▎       | 60/253 [00:33<01:50,  1.74it/s]"
          ],
          "name": "stderr"
        },
        {
          "output_type": "stream",
          "text": [
            "GCN loss on unlabled data: 0.6332184076309204\n",
            "GCN acc on unlabled data: 0.8202950379973178\n",
            "attack loss: 0.2848455309867859\n"
          ],
          "name": "stdout"
        },
        {
          "output_type": "stream",
          "text": [
            "\rPerturbing graph:  24%|██▍       | 61/253 [00:34<01:49,  1.75it/s]"
          ],
          "name": "stderr"
        },
        {
          "output_type": "stream",
          "text": [
            "GCN loss on unlabled data: 0.6468244194984436\n",
            "GCN acc on unlabled data: 0.8135896289673671\n",
            "attack loss: 0.2946663796901703\n"
          ],
          "name": "stdout"
        },
        {
          "output_type": "stream",
          "text": [
            "\rPerturbing graph:  25%|██▍       | 62/253 [00:34<01:49,  1.74it/s]"
          ],
          "name": "stderr"
        },
        {
          "output_type": "stream",
          "text": [
            "GCN loss on unlabled data: 0.6293419003486633\n",
            "GCN acc on unlabled data: 0.8144836835046938\n",
            "attack loss: 0.29046809673309326\n"
          ],
          "name": "stdout"
        },
        {
          "output_type": "stream",
          "text": [
            "\rPerturbing graph:  25%|██▍       | 63/253 [00:35<01:49,  1.74it/s]"
          ],
          "name": "stderr"
        },
        {
          "output_type": "stream",
          "text": [
            "GCN loss on unlabled data: 0.6275373101234436\n",
            "GCN acc on unlabled data: 0.8225301743406348\n",
            "attack loss: 0.30010053515434265\n"
          ],
          "name": "stdout"
        },
        {
          "output_type": "stream",
          "text": [
            "\rPerturbing graph:  25%|██▌       | 64/253 [00:36<01:49,  1.73it/s]"
          ],
          "name": "stderr"
        },
        {
          "output_type": "stream",
          "text": [
            "GCN loss on unlabled data: 0.6286200284957886\n",
            "GCN acc on unlabled data: 0.8100134108180599\n",
            "attack loss: 0.3018088638782501\n"
          ],
          "name": "stdout"
        },
        {
          "output_type": "stream",
          "text": [
            "\rPerturbing graph:  26%|██▌       | 65/253 [00:36<01:49,  1.72it/s]"
          ],
          "name": "stderr"
        },
        {
          "output_type": "stream",
          "text": [
            "GCN loss on unlabled data: 0.6121978163719177\n",
            "GCN acc on unlabled data: 0.8189539561913277\n",
            "attack loss: 0.27834680676460266\n"
          ],
          "name": "stdout"
        },
        {
          "output_type": "stream",
          "text": [
            "\rPerturbing graph:  26%|██▌       | 66/253 [00:37<01:48,  1.73it/s]"
          ],
          "name": "stderr"
        },
        {
          "output_type": "stream",
          "text": [
            "GCN loss on unlabled data: 0.6474291682243347\n",
            "GCN acc on unlabled data: 0.8068842199374162\n",
            "attack loss: 0.2959993779659271\n"
          ],
          "name": "stdout"
        },
        {
          "output_type": "stream",
          "text": [
            "\rPerturbing graph:  26%|██▋       | 67/253 [00:37<01:46,  1.74it/s]"
          ],
          "name": "stderr"
        },
        {
          "output_type": "stream",
          "text": [
            "GCN loss on unlabled data: 0.6311464905738831\n",
            "GCN acc on unlabled data: 0.8158247653106839\n",
            "attack loss: 0.30914559960365295\n"
          ],
          "name": "stdout"
        },
        {
          "output_type": "stream",
          "text": [
            "\rPerturbing graph:  27%|██▋       | 68/253 [00:38<01:46,  1.73it/s]"
          ],
          "name": "stderr"
        },
        {
          "output_type": "stream",
          "text": [
            "GCN loss on unlabled data: 0.6063318848609924\n",
            "GCN acc on unlabled data: 0.8211890925346447\n",
            "attack loss: 0.2899799048900604\n"
          ],
          "name": "stdout"
        },
        {
          "output_type": "stream",
          "text": [
            "\rPerturbing graph:  27%|██▋       | 69/253 [00:39<01:45,  1.75it/s]"
          ],
          "name": "stderr"
        },
        {
          "output_type": "stream",
          "text": [
            "GCN loss on unlabled data: 0.637902557849884\n",
            "GCN acc on unlabled data: 0.8176128743853376\n",
            "attack loss: 0.29582828283309937\n"
          ],
          "name": "stdout"
        },
        {
          "output_type": "stream",
          "text": [
            "\rPerturbing graph:  28%|██▊       | 70/253 [00:39<01:44,  1.75it/s]"
          ],
          "name": "stderr"
        },
        {
          "output_type": "stream",
          "text": [
            "GCN loss on unlabled data: 0.6215283274650574\n",
            "GCN acc on unlabled data: 0.8252123379526152\n",
            "attack loss: 0.3106115460395813\n"
          ],
          "name": "stdout"
        },
        {
          "output_type": "stream",
          "text": [
            "\rPerturbing graph:  28%|██▊       | 71/253 [00:40<01:43,  1.75it/s]"
          ],
          "name": "stderr"
        },
        {
          "output_type": "stream",
          "text": [
            "GCN loss on unlabled data: 0.6303629279136658\n",
            "GCN acc on unlabled data: 0.8185069289226643\n",
            "attack loss: 0.30738747119903564\n"
          ],
          "name": "stdout"
        },
        {
          "output_type": "stream",
          "text": [
            "\rPerturbing graph:  28%|██▊       | 72/253 [00:40<01:42,  1.76it/s]"
          ],
          "name": "stderr"
        },
        {
          "output_type": "stream",
          "text": [
            "GCN loss on unlabled data: 0.6199192404747009\n",
            "GCN acc on unlabled data: 0.8131426016987037\n",
            "attack loss: 0.3084169924259186\n"
          ],
          "name": "stdout"
        },
        {
          "output_type": "stream",
          "text": [
            "\rPerturbing graph:  29%|██▉       | 73/253 [00:41<01:42,  1.76it/s]"
          ],
          "name": "stderr"
        },
        {
          "output_type": "stream",
          "text": [
            "GCN loss on unlabled data: 0.6225517988204956\n",
            "GCN acc on unlabled data: 0.8073312472060796\n",
            "attack loss: 0.3034359812736511\n"
          ],
          "name": "stdout"
        },
        {
          "output_type": "stream",
          "text": [
            "\rPerturbing graph:  29%|██▉       | 74/253 [00:41<01:41,  1.77it/s]"
          ],
          "name": "stderr"
        },
        {
          "output_type": "stream",
          "text": [
            "GCN loss on unlabled data: 0.6280270218849182\n",
            "GCN acc on unlabled data: 0.8171658471166742\n",
            "attack loss: 0.3022595942020416\n"
          ],
          "name": "stdout"
        },
        {
          "output_type": "stream",
          "text": [
            "\rPerturbing graph:  30%|██▉       | 75/253 [00:42<01:39,  1.78it/s]"
          ],
          "name": "stderr"
        },
        {
          "output_type": "stream",
          "text": [
            "GCN loss on unlabled data: 0.6466346979141235\n",
            "GCN acc on unlabled data: 0.8144836835046938\n",
            "attack loss: 0.30707094073295593\n"
          ],
          "name": "stdout"
        },
        {
          "output_type": "stream",
          "text": [
            "\rPerturbing graph:  30%|███       | 76/253 [00:42<01:38,  1.80it/s]"
          ],
          "name": "stderr"
        },
        {
          "output_type": "stream",
          "text": [
            "GCN loss on unlabled data: 0.6047019958496094\n",
            "GCN acc on unlabled data: 0.8144836835046938\n",
            "attack loss: 0.30671682953834534\n"
          ],
          "name": "stdout"
        },
        {
          "output_type": "stream",
          "text": [
            "\rPerturbing graph:  30%|███       | 77/253 [00:43<01:37,  1.81it/s]"
          ],
          "name": "stderr"
        },
        {
          "output_type": "stream",
          "text": [
            "GCN loss on unlabled data: 0.6600400805473328\n",
            "GCN acc on unlabled data: 0.8131426016987037\n",
            "attack loss: 0.31691882014274597\n"
          ],
          "name": "stdout"
        },
        {
          "output_type": "stream",
          "text": [
            "\rPerturbing graph:  31%|███       | 78/253 [00:44<01:34,  1.84it/s]"
          ],
          "name": "stderr"
        },
        {
          "output_type": "stream",
          "text": [
            "GCN loss on unlabled data: 0.6487590074539185\n",
            "GCN acc on unlabled data: 0.8042020563254358\n",
            "attack loss: 0.3038378655910492\n"
          ],
          "name": "stdout"
        },
        {
          "output_type": "stream",
          "text": [
            "\rPerturbing graph:  31%|███       | 79/253 [00:44<01:34,  1.84it/s]"
          ],
          "name": "stderr"
        },
        {
          "output_type": "stream",
          "text": [
            "GCN loss on unlabled data: 0.6373617053031921\n",
            "GCN acc on unlabled data: 0.8082253017434063\n",
            "attack loss: 0.3016867935657501\n"
          ],
          "name": "stdout"
        },
        {
          "output_type": "stream",
          "text": [
            "\rPerturbing graph:  32%|███▏      | 80/253 [00:45<01:33,  1.84it/s]"
          ],
          "name": "stderr"
        },
        {
          "output_type": "stream",
          "text": [
            "GCN loss on unlabled data: 0.6633034348487854\n",
            "GCN acc on unlabled data: 0.8082253017434063\n",
            "attack loss: 0.3266529440879822\n"
          ],
          "name": "stdout"
        },
        {
          "output_type": "stream",
          "text": [
            "\rPerturbing graph:  32%|███▏      | 81/253 [00:45<01:33,  1.84it/s]"
          ],
          "name": "stderr"
        },
        {
          "output_type": "stream",
          "text": [
            "GCN loss on unlabled data: 0.6235020756721497\n",
            "GCN acc on unlabled data: 0.8118015198927134\n",
            "attack loss: 0.3036288619041443\n"
          ],
          "name": "stdout"
        },
        {
          "output_type": "stream",
          "text": [
            "\rPerturbing graph:  32%|███▏      | 82/253 [00:46<01:33,  1.83it/s]"
          ],
          "name": "stderr"
        },
        {
          "output_type": "stream",
          "text": [
            "GCN loss on unlabled data: 0.6204191446304321\n",
            "GCN acc on unlabled data: 0.8252123379526152\n",
            "attack loss: 0.30112531781196594\n"
          ],
          "name": "stdout"
        },
        {
          "output_type": "stream",
          "text": [
            "\rPerturbing graph:  33%|███▎      | 83/253 [00:46<01:33,  1.81it/s]"
          ],
          "name": "stderr"
        },
        {
          "output_type": "stream",
          "text": [
            "GCN loss on unlabled data: 0.6359418034553528\n",
            "GCN acc on unlabled data: 0.8167188198480108\n",
            "attack loss: 0.3142251968383789\n"
          ],
          "name": "stdout"
        },
        {
          "output_type": "stream",
          "text": [
            "\rPerturbing graph:  33%|███▎      | 84/253 [00:47<01:34,  1.80it/s]"
          ],
          "name": "stderr"
        },
        {
          "output_type": "stream",
          "text": [
            "GCN loss on unlabled data: 0.6422186493873596\n",
            "GCN acc on unlabled data: 0.8042020563254358\n",
            "attack loss: 0.3296518325805664\n"
          ],
          "name": "stdout"
        },
        {
          "output_type": "stream",
          "text": [
            "\rPerturbing graph:  34%|███▎      | 85/253 [00:47<01:33,  1.79it/s]"
          ],
          "name": "stderr"
        },
        {
          "output_type": "stream",
          "text": [
            "GCN loss on unlabled data: 0.6443098187446594\n",
            "GCN acc on unlabled data: 0.8050961108627627\n",
            "attack loss: 0.32430315017700195\n"
          ],
          "name": "stdout"
        },
        {
          "output_type": "stream",
          "text": [
            "\rPerturbing graph:  34%|███▍      | 86/253 [00:48<01:33,  1.78it/s]"
          ],
          "name": "stderr"
        },
        {
          "output_type": "stream",
          "text": [
            "GCN loss on unlabled data: 0.6681538224220276\n",
            "GCN acc on unlabled data: 0.8086723290120698\n",
            "attack loss: 0.3296690881252289\n"
          ],
          "name": "stdout"
        },
        {
          "output_type": "stream",
          "text": [
            "\rPerturbing graph:  34%|███▍      | 87/253 [00:49<01:33,  1.77it/s]"
          ],
          "name": "stderr"
        },
        {
          "output_type": "stream",
          "text": [
            "GCN loss on unlabled data: 0.6271395087242126\n",
            "GCN acc on unlabled data: 0.8100134108180599\n",
            "attack loss: 0.3267349302768707\n"
          ],
          "name": "stdout"
        },
        {
          "output_type": "stream",
          "text": [
            "\rPerturbing graph:  35%|███▍      | 88/253 [00:49<01:34,  1.75it/s]"
          ],
          "name": "stderr"
        },
        {
          "output_type": "stream",
          "text": [
            "GCN loss on unlabled data: 0.6461507678031921\n",
            "GCN acc on unlabled data: 0.8086723290120698\n",
            "attack loss: 0.3151889443397522\n"
          ],
          "name": "stdout"
        },
        {
          "output_type": "stream",
          "text": [
            "\rPerturbing graph:  35%|███▌      | 89/253 [00:50<01:33,  1.75it/s]"
          ],
          "name": "stderr"
        },
        {
          "output_type": "stream",
          "text": [
            "GCN loss on unlabled data: 0.6586195826530457\n",
            "GCN acc on unlabled data: 0.8104604380867233\n",
            "attack loss: 0.3193119466304779\n"
          ],
          "name": "stdout"
        },
        {
          "output_type": "stream",
          "text": [
            "\rPerturbing graph:  36%|███▌      | 90/253 [00:50<01:33,  1.75it/s]"
          ],
          "name": "stderr"
        },
        {
          "output_type": "stream",
          "text": [
            "GCN loss on unlabled data: 0.6562076807022095\n",
            "GCN acc on unlabled data: 0.8019669199821189\n",
            "attack loss: 0.3299124538898468\n"
          ],
          "name": "stdout"
        },
        {
          "output_type": "stream",
          "text": [
            "\rPerturbing graph:  36%|███▌      | 91/253 [00:51<01:32,  1.75it/s]"
          ],
          "name": "stderr"
        },
        {
          "output_type": "stream",
          "text": [
            "GCN loss on unlabled data: 0.64518803358078\n",
            "GCN acc on unlabled data: 0.8028609745194457\n",
            "attack loss: 0.33412858843803406\n"
          ],
          "name": "stdout"
        },
        {
          "output_type": "stream",
          "text": [
            "\rPerturbing graph:  36%|███▋      | 92/253 [00:51<01:32,  1.75it/s]"
          ],
          "name": "stderr"
        },
        {
          "output_type": "stream",
          "text": [
            "GCN loss on unlabled data: 0.6903486847877502\n",
            "GCN acc on unlabled data: 0.8006258381761288\n",
            "attack loss: 0.34975892305374146\n"
          ],
          "name": "stdout"
        },
        {
          "output_type": "stream",
          "text": [
            "\rPerturbing graph:  37%|███▋      | 93/253 [00:52<01:31,  1.74it/s]"
          ],
          "name": "stderr"
        },
        {
          "output_type": "stream",
          "text": [
            "GCN loss on unlabled data: 0.6811900734901428\n",
            "GCN acc on unlabled data: 0.8033080017881091\n",
            "attack loss: 0.3341678977012634\n"
          ],
          "name": "stdout"
        },
        {
          "output_type": "stream",
          "text": [
            "\rPerturbing graph:  37%|███▋      | 94/253 [00:53<01:31,  1.74it/s]"
          ],
          "name": "stderr"
        },
        {
          "output_type": "stream",
          "text": [
            "GCN loss on unlabled data: 0.6656876802444458\n",
            "GCN acc on unlabled data: 0.799731783638802\n",
            "attack loss: 0.32230454683303833\n"
          ],
          "name": "stdout"
        },
        {
          "output_type": "stream",
          "text": [
            "\rPerturbing graph:  38%|███▊      | 95/253 [00:53<01:31,  1.73it/s]"
          ],
          "name": "stderr"
        },
        {
          "output_type": "stream",
          "text": [
            "GCN loss on unlabled data: 0.6809929013252258\n",
            "GCN acc on unlabled data: 0.8042020563254358\n",
            "attack loss: 0.33733296394348145\n"
          ],
          "name": "stdout"
        },
        {
          "output_type": "stream",
          "text": [
            "\rPerturbing graph:  38%|███▊      | 96/253 [00:54<01:30,  1.73it/s]"
          ],
          "name": "stderr"
        },
        {
          "output_type": "stream",
          "text": [
            "GCN loss on unlabled data: 0.64186030626297\n",
            "GCN acc on unlabled data: 0.8042020563254358\n",
            "attack loss: 0.33717602491378784\n"
          ],
          "name": "stdout"
        },
        {
          "output_type": "stream",
          "text": [
            "\rPerturbing graph:  38%|███▊      | 97/253 [00:54<01:30,  1.73it/s]"
          ],
          "name": "stderr"
        },
        {
          "output_type": "stream",
          "text": [
            "GCN loss on unlabled data: 0.6376392245292664\n",
            "GCN acc on unlabled data: 0.8104604380867233\n",
            "attack loss: 0.3239554762840271\n"
          ],
          "name": "stdout"
        },
        {
          "output_type": "stream",
          "text": [
            "\rPerturbing graph:  39%|███▊      | 98/253 [00:55<01:29,  1.73it/s]"
          ],
          "name": "stderr"
        },
        {
          "output_type": "stream",
          "text": [
            "GCN loss on unlabled data: 0.6650806069374084\n",
            "GCN acc on unlabled data: 0.8006258381761288\n",
            "attack loss: 0.35018229484558105\n"
          ],
          "name": "stdout"
        },
        {
          "output_type": "stream",
          "text": [
            "\rPerturbing graph:  39%|███▉      | 99/253 [00:55<01:28,  1.74it/s]"
          ],
          "name": "stderr"
        },
        {
          "output_type": "stream",
          "text": [
            "GCN loss on unlabled data: 0.6948831081390381\n",
            "GCN acc on unlabled data: 0.8055431381314261\n",
            "attack loss: 0.35361817479133606\n"
          ],
          "name": "stdout"
        },
        {
          "output_type": "stream",
          "text": [
            "\rPerturbing graph:  40%|███▉      | 100/253 [00:56<01:28,  1.74it/s]"
          ],
          "name": "stderr"
        },
        {
          "output_type": "stream",
          "text": [
            "GCN loss on unlabled data: 0.6690102219581604\n",
            "GCN acc on unlabled data: 0.7983907018328118\n",
            "attack loss: 0.34954679012298584\n"
          ],
          "name": "stdout"
        },
        {
          "output_type": "stream",
          "text": [
            "\rPerturbing graph:  40%|███▉      | 101/253 [00:57<01:27,  1.73it/s]"
          ],
          "name": "stderr"
        },
        {
          "output_type": "stream",
          "text": [
            "GCN loss on unlabled data: 0.666986346244812\n",
            "GCN acc on unlabled data: 0.8028609745194457\n",
            "attack loss: 0.342695951461792\n"
          ],
          "name": "stdout"
        },
        {
          "output_type": "stream",
          "text": [
            "\rPerturbing graph:  40%|████      | 102/253 [00:57<01:27,  1.73it/s]"
          ],
          "name": "stderr"
        },
        {
          "output_type": "stream",
          "text": [
            "GCN loss on unlabled data: 0.694301426410675\n",
            "GCN acc on unlabled data: 0.7939204291461779\n",
            "attack loss: 0.360821932554245\n"
          ],
          "name": "stdout"
        },
        {
          "output_type": "stream",
          "text": [
            "\rPerturbing graph:  41%|████      | 103/253 [00:58<01:27,  1.72it/s]"
          ],
          "name": "stderr"
        },
        {
          "output_type": "stream",
          "text": [
            "GCN loss on unlabled data: 0.6615475416183472\n",
            "GCN acc on unlabled data: 0.8042020563254358\n",
            "attack loss: 0.34743449091911316\n"
          ],
          "name": "stdout"
        },
        {
          "output_type": "stream",
          "text": [
            "\rPerturbing graph:  41%|████      | 104/253 [00:58<01:26,  1.73it/s]"
          ],
          "name": "stderr"
        },
        {
          "output_type": "stream",
          "text": [
            "GCN loss on unlabled data: 0.6734375953674316\n",
            "GCN acc on unlabled data: 0.8059901654000894\n",
            "attack loss: 0.34011971950531006\n"
          ],
          "name": "stdout"
        },
        {
          "output_type": "stream",
          "text": [
            "\rPerturbing graph:  42%|████▏     | 105/253 [00:59<01:25,  1.73it/s]"
          ],
          "name": "stderr"
        },
        {
          "output_type": "stream",
          "text": [
            "GCN loss on unlabled data: 0.6790437698364258\n",
            "GCN acc on unlabled data: 0.8010728654447922\n",
            "attack loss: 0.34665995836257935\n"
          ],
          "name": "stdout"
        },
        {
          "output_type": "stream",
          "text": [
            "\rPerturbing graph:  42%|████▏     | 106/253 [01:00<01:25,  1.73it/s]"
          ],
          "name": "stderr"
        },
        {
          "output_type": "stream",
          "text": [
            "GCN loss on unlabled data: 0.6910666823387146\n",
            "GCN acc on unlabled data: 0.7939204291461779\n",
            "attack loss: 0.3392323851585388\n"
          ],
          "name": "stdout"
        },
        {
          "output_type": "stream",
          "text": [
            "\rPerturbing graph:  42%|████▏     | 107/253 [01:00<01:25,  1.71it/s]"
          ],
          "name": "stderr"
        },
        {
          "output_type": "stream",
          "text": [
            "GCN loss on unlabled data: 0.6716492772102356\n",
            "GCN acc on unlabled data: 0.7948144836835047\n",
            "attack loss: 0.3411356210708618\n"
          ],
          "name": "stdout"
        },
        {
          "output_type": "stream",
          "text": [
            "\rPerturbing graph:  43%|████▎     | 108/253 [01:01<01:24,  1.71it/s]"
          ],
          "name": "stderr"
        },
        {
          "output_type": "stream",
          "text": [
            "GCN loss on unlabled data: 0.7203447222709656\n",
            "GCN acc on unlabled data: 0.7912382655341976\n",
            "attack loss: 0.3618775010108948\n"
          ],
          "name": "stdout"
        },
        {
          "output_type": "stream",
          "text": [
            "\rPerturbing graph:  43%|████▎     | 109/253 [01:01<01:24,  1.71it/s]"
          ],
          "name": "stderr"
        },
        {
          "output_type": "stream",
          "text": [
            "GCN loss on unlabled data: 0.7035253643989563\n",
            "GCN acc on unlabled data: 0.7907912382655342\n",
            "attack loss: 0.3566626012325287\n"
          ],
          "name": "stdout"
        },
        {
          "output_type": "stream",
          "text": [
            "\rPerturbing graph:  43%|████▎     | 110/253 [01:02<01:23,  1.71it/s]"
          ],
          "name": "stderr"
        },
        {
          "output_type": "stream",
          "text": [
            "GCN loss on unlabled data: 0.7222476601600647\n",
            "GCN acc on unlabled data: 0.7805096110862763\n",
            "attack loss: 0.36657682061195374\n"
          ],
          "name": "stdout"
        },
        {
          "output_type": "stream",
          "text": [
            "\rPerturbing graph:  44%|████▍     | 111/253 [01:02<01:23,  1.71it/s]"
          ],
          "name": "stderr"
        },
        {
          "output_type": "stream",
          "text": [
            "GCN loss on unlabled data: 0.7010385394096375\n",
            "GCN acc on unlabled data: 0.7930263746088512\n",
            "attack loss: 0.3667294979095459\n"
          ],
          "name": "stdout"
        },
        {
          "output_type": "stream",
          "text": [
            "\rPerturbing graph:  44%|████▍     | 112/253 [01:03<01:22,  1.71it/s]"
          ],
          "name": "stderr"
        },
        {
          "output_type": "stream",
          "text": [
            "GCN loss on unlabled data: 0.6708223819732666\n",
            "GCN acc on unlabled data: 0.8109074653553867\n",
            "attack loss: 0.3483232855796814\n"
          ],
          "name": "stdout"
        },
        {
          "output_type": "stream",
          "text": [
            "\rPerturbing graph:  45%|████▍     | 113/253 [01:04<01:21,  1.71it/s]"
          ],
          "name": "stderr"
        },
        {
          "output_type": "stream",
          "text": [
            "GCN loss on unlabled data: 0.721768856048584\n",
            "GCN acc on unlabled data: 0.7925793473401878\n",
            "attack loss: 0.3717222213745117\n"
          ],
          "name": "stdout"
        },
        {
          "output_type": "stream",
          "text": [
            "\rPerturbing graph:  45%|████▌     | 114/253 [01:04<01:21,  1.71it/s]"
          ],
          "name": "stderr"
        },
        {
          "output_type": "stream",
          "text": [
            "GCN loss on unlabled data: 0.7218714356422424\n",
            "GCN acc on unlabled data: 0.785873938310237\n",
            "attack loss: 0.35082364082336426\n"
          ],
          "name": "stdout"
        },
        {
          "output_type": "stream",
          "text": [
            "\rPerturbing graph:  45%|████▌     | 115/253 [01:05<01:20,  1.71it/s]"
          ],
          "name": "stderr"
        },
        {
          "output_type": "stream",
          "text": [
            "GCN loss on unlabled data: 0.7121556401252747\n",
            "GCN acc on unlabled data: 0.7831917746982566\n",
            "attack loss: 0.37856167554855347\n"
          ],
          "name": "stdout"
        },
        {
          "output_type": "stream",
          "text": [
            "\rPerturbing graph:  46%|████▌     | 116/253 [01:05<01:19,  1.71it/s]"
          ],
          "name": "stderr"
        },
        {
          "output_type": "stream",
          "text": [
            "GCN loss on unlabled data: 0.7388705015182495\n",
            "GCN acc on unlabled data: 0.7894501564595441\n",
            "attack loss: 0.3833656311035156\n"
          ],
          "name": "stdout"
        },
        {
          "output_type": "stream",
          "text": [
            "\rPerturbing graph:  46%|████▌     | 117/253 [01:06<01:19,  1.71it/s]"
          ],
          "name": "stderr"
        },
        {
          "output_type": "stream",
          "text": [
            "GCN loss on unlabled data: 0.7403802275657654\n",
            "GCN acc on unlabled data: 0.7769333929369692\n",
            "attack loss: 0.39321368932724\n"
          ],
          "name": "stdout"
        },
        {
          "output_type": "stream",
          "text": [
            "\rPerturbing graph:  47%|████▋     | 118/253 [01:07<01:18,  1.71it/s]"
          ],
          "name": "stderr"
        },
        {
          "output_type": "stream",
          "text": [
            "GCN loss on unlabled data: 0.7224679589271545\n",
            "GCN acc on unlabled data: 0.7890031291908807\n",
            "attack loss: 0.36747437715530396\n"
          ],
          "name": "stdout"
        },
        {
          "output_type": "stream",
          "text": [
            "\rPerturbing graph:  47%|████▋     | 119/253 [01:07<01:18,  1.71it/s]"
          ],
          "name": "stderr"
        },
        {
          "output_type": "stream",
          "text": [
            "GCN loss on unlabled data: 0.7131876349449158\n",
            "GCN acc on unlabled data: 0.7818506928922665\n",
            "attack loss: 0.37000951170921326\n"
          ],
          "name": "stdout"
        },
        {
          "output_type": "stream",
          "text": [
            "\rPerturbing graph:  47%|████▋     | 120/253 [01:08<01:17,  1.71it/s]"
          ],
          "name": "stderr"
        },
        {
          "output_type": "stream",
          "text": [
            "GCN loss on unlabled data: 0.7201833724975586\n",
            "GCN acc on unlabled data: 0.7903442109968708\n",
            "attack loss: 0.3549348711967468\n"
          ],
          "name": "stdout"
        },
        {
          "output_type": "stream",
          "text": [
            "\rPerturbing graph:  48%|████▊     | 121/253 [01:08<01:16,  1.71it/s]"
          ],
          "name": "stderr"
        },
        {
          "output_type": "stream",
          "text": [
            "GCN loss on unlabled data: 0.715384304523468\n",
            "GCN acc on unlabled data: 0.7822977201609298\n",
            "attack loss: 0.3713819980621338\n"
          ],
          "name": "stdout"
        },
        {
          "output_type": "stream",
          "text": [
            "\rPerturbing graph:  48%|████▊     | 122/253 [01:09<01:16,  1.71it/s]"
          ],
          "name": "stderr"
        },
        {
          "output_type": "stream",
          "text": [
            "GCN loss on unlabled data: 0.743948221206665\n",
            "GCN acc on unlabled data: 0.7939204291461779\n",
            "attack loss: 0.38157159090042114\n"
          ],
          "name": "stdout"
        },
        {
          "output_type": "stream",
          "text": [
            "\rPerturbing graph:  49%|████▊     | 123/253 [01:09<01:15,  1.71it/s]"
          ],
          "name": "stderr"
        },
        {
          "output_type": "stream",
          "text": [
            "GCN loss on unlabled data: 0.7576170563697815\n",
            "GCN acc on unlabled data: 0.775592311130979\n",
            "attack loss: 0.3814752697944641\n"
          ],
          "name": "stdout"
        },
        {
          "output_type": "stream",
          "text": [
            "\rPerturbing graph:  49%|████▉     | 124/253 [01:10<01:15,  1.72it/s]"
          ],
          "name": "stderr"
        },
        {
          "output_type": "stream",
          "text": [
            "GCN loss on unlabled data: 0.7295527458190918\n",
            "GCN acc on unlabled data: 0.785873938310237\n",
            "attack loss: 0.38409751653671265\n"
          ],
          "name": "stdout"
        },
        {
          "output_type": "stream",
          "text": [
            "\rPerturbing graph:  49%|████▉     | 125/253 [01:11<01:14,  1.71it/s]"
          ],
          "name": "stderr"
        },
        {
          "output_type": "stream",
          "text": [
            "GCN loss on unlabled data: 0.7208319306373596\n",
            "GCN acc on unlabled data: 0.7890031291908807\n",
            "attack loss: 0.3721749782562256\n"
          ],
          "name": "stdout"
        },
        {
          "output_type": "stream",
          "text": [
            "\rPerturbing graph:  50%|████▉     | 126/253 [01:11<01:14,  1.71it/s]"
          ],
          "name": "stderr"
        },
        {
          "output_type": "stream",
          "text": [
            "GCN loss on unlabled data: 0.7728375792503357\n",
            "GCN acc on unlabled data: 0.7724631202503353\n",
            "attack loss: 0.3932539224624634\n"
          ],
          "name": "stdout"
        },
        {
          "output_type": "stream",
          "text": [
            "\rPerturbing graph:  50%|█████     | 127/253 [01:12<01:13,  1.71it/s]"
          ],
          "name": "stderr"
        },
        {
          "output_type": "stream",
          "text": [
            "GCN loss on unlabled data: 0.7215327620506287\n",
            "GCN acc on unlabled data: 0.7885561019222173\n",
            "attack loss: 0.373729407787323\n"
          ],
          "name": "stdout"
        },
        {
          "output_type": "stream",
          "text": [
            "\rPerturbing graph:  51%|█████     | 128/253 [01:12<01:13,  1.71it/s]"
          ],
          "name": "stderr"
        },
        {
          "output_type": "stream",
          "text": [
            "GCN loss on unlabled data: 0.7473887801170349\n",
            "GCN acc on unlabled data: 0.7840858292355833\n",
            "attack loss: 0.37393659353256226\n"
          ],
          "name": "stdout"
        },
        {
          "output_type": "stream",
          "text": [
            "\rPerturbing graph:  51%|█████     | 129/253 [01:13<01:12,  1.72it/s]"
          ],
          "name": "stderr"
        },
        {
          "output_type": "stream",
          "text": [
            "GCN loss on unlabled data: 0.7536357045173645\n",
            "GCN acc on unlabled data: 0.7773804202056326\n",
            "attack loss: 0.3762817680835724\n"
          ],
          "name": "stdout"
        },
        {
          "output_type": "stream",
          "text": [
            "\rPerturbing graph:  51%|█████▏    | 130/253 [01:14<01:11,  1.73it/s]"
          ],
          "name": "stderr"
        },
        {
          "output_type": "stream",
          "text": [
            "GCN loss on unlabled data: 0.7102760672569275\n",
            "GCN acc on unlabled data: 0.7854269110415736\n",
            "attack loss: 0.374551385641098\n"
          ],
          "name": "stdout"
        },
        {
          "output_type": "stream",
          "text": [
            "\rPerturbing graph:  52%|█████▏    | 131/253 [01:14<01:10,  1.73it/s]"
          ],
          "name": "stderr"
        },
        {
          "output_type": "stream",
          "text": [
            "GCN loss on unlabled data: 0.7460675835609436\n",
            "GCN acc on unlabled data: 0.7881090746535538\n",
            "attack loss: 0.3705388903617859\n"
          ],
          "name": "stdout"
        },
        {
          "output_type": "stream",
          "text": [
            "\rPerturbing graph:  52%|█████▏    | 132/253 [01:15<01:09,  1.73it/s]"
          ],
          "name": "stderr"
        },
        {
          "output_type": "stream",
          "text": [
            "GCN loss on unlabled data: 0.7650843858718872\n",
            "GCN acc on unlabled data: 0.7751452838623156\n",
            "attack loss: 0.3904834985733032\n"
          ],
          "name": "stdout"
        },
        {
          "output_type": "stream",
          "text": [
            "\rPerturbing graph:  53%|█████▎    | 133/253 [01:15<01:09,  1.73it/s]"
          ],
          "name": "stderr"
        },
        {
          "output_type": "stream",
          "text": [
            "GCN loss on unlabled data: 0.7456762194633484\n",
            "GCN acc on unlabled data: 0.7845328565042468\n",
            "attack loss: 0.3933199346065521\n"
          ],
          "name": "stdout"
        },
        {
          "output_type": "stream",
          "text": [
            "\rPerturbing graph:  53%|█████▎    | 134/253 [01:16<01:08,  1.72it/s]"
          ],
          "name": "stderr"
        },
        {
          "output_type": "stream",
          "text": [
            "GCN loss on unlabled data: 0.8008102774620056\n",
            "GCN acc on unlabled data: 0.769780956638355\n",
            "attack loss: 0.3990360200405121\n"
          ],
          "name": "stdout"
        },
        {
          "output_type": "stream",
          "text": [
            "\rPerturbing graph:  53%|█████▎    | 135/253 [01:16<01:08,  1.72it/s]"
          ],
          "name": "stderr"
        },
        {
          "output_type": "stream",
          "text": [
            "GCN loss on unlabled data: 0.7840020656585693\n",
            "GCN acc on unlabled data: 0.780062583817613\n",
            "attack loss: 0.4064440429210663\n"
          ],
          "name": "stdout"
        },
        {
          "output_type": "stream",
          "text": [
            "\rPerturbing graph:  54%|█████▍    | 136/253 [01:17<01:07,  1.73it/s]"
          ],
          "name": "stderr"
        },
        {
          "output_type": "stream",
          "text": [
            "GCN loss on unlabled data: 0.7546699047088623\n",
            "GCN acc on unlabled data: 0.775592311130979\n",
            "attack loss: 0.385986328125\n"
          ],
          "name": "stdout"
        },
        {
          "output_type": "stream",
          "text": [
            "\rPerturbing graph:  54%|█████▍    | 137/253 [01:18<01:07,  1.73it/s]"
          ],
          "name": "stderr"
        },
        {
          "output_type": "stream",
          "text": [
            "GCN loss on unlabled data: 0.8001701831817627\n",
            "GCN acc on unlabled data: 0.7693339293696916\n",
            "attack loss: 0.40954500436782837\n"
          ],
          "name": "stdout"
        },
        {
          "output_type": "stream",
          "text": [
            "\rPerturbing graph:  55%|█████▍    | 138/253 [01:18<01:06,  1.73it/s]"
          ],
          "name": "stderr"
        },
        {
          "output_type": "stream",
          "text": [
            "GCN loss on unlabled data: 0.7927531003952026\n",
            "GCN acc on unlabled data: 0.7670987930263746\n",
            "attack loss: 0.39740660786628723\n"
          ],
          "name": "stdout"
        },
        {
          "output_type": "stream",
          "text": [
            "\rPerturbing graph:  55%|█████▍    | 139/253 [01:19<01:06,  1.73it/s]"
          ],
          "name": "stderr"
        },
        {
          "output_type": "stream",
          "text": [
            "GCN loss on unlabled data: 0.7679497599601746\n",
            "GCN acc on unlabled data: 0.7782744747429593\n",
            "attack loss: 0.3861106038093567\n"
          ],
          "name": "stdout"
        },
        {
          "output_type": "stream",
          "text": [
            "\rPerturbing graph:  55%|█████▌    | 140/253 [01:19<01:05,  1.73it/s]"
          ],
          "name": "stderr"
        },
        {
          "output_type": "stream",
          "text": [
            "GCN loss on unlabled data: 0.7991654276847839\n",
            "GCN acc on unlabled data: 0.7751452838623156\n",
            "attack loss: 0.3981780409812927\n"
          ],
          "name": "stdout"
        },
        {
          "output_type": "stream",
          "text": [
            "\rPerturbing graph:  56%|█████▌    | 141/253 [01:20<01:04,  1.73it/s]"
          ],
          "name": "stderr"
        },
        {
          "output_type": "stream",
          "text": [
            "GCN loss on unlabled data: 0.7948253154754639\n",
            "GCN acc on unlabled data: 0.7635225748770675\n",
            "attack loss: 0.4012604355812073\n"
          ],
          "name": "stdout"
        },
        {
          "output_type": "stream",
          "text": [
            "\rPerturbing graph:  56%|█████▌    | 142/253 [01:20<01:04,  1.73it/s]"
          ],
          "name": "stderr"
        },
        {
          "output_type": "stream",
          "text": [
            "GCN loss on unlabled data: 0.8123952746391296\n",
            "GCN acc on unlabled data: 0.7630755476084041\n",
            "attack loss: 0.4145543575286865\n"
          ],
          "name": "stdout"
        },
        {
          "output_type": "stream",
          "text": [
            "\rPerturbing graph:  57%|█████▋    | 143/253 [01:21<01:03,  1.73it/s]"
          ],
          "name": "stderr"
        },
        {
          "output_type": "stream",
          "text": [
            "GCN loss on unlabled data: 0.7753282189369202\n",
            "GCN acc on unlabled data: 0.7827447474295932\n",
            "attack loss: 0.4155508875846863\n"
          ],
          "name": "stdout"
        },
        {
          "output_type": "stream",
          "text": [
            "\rPerturbing graph:  57%|█████▋    | 144/253 [01:22<01:02,  1.74it/s]"
          ],
          "name": "stderr"
        },
        {
          "output_type": "stream",
          "text": [
            "GCN loss on unlabled data: 0.8014092445373535\n",
            "GCN acc on unlabled data: 0.7760393383996425\n",
            "attack loss: 0.4115995764732361\n"
          ],
          "name": "stdout"
        },
        {
          "output_type": "stream",
          "text": [
            "\rPerturbing graph:  57%|█████▋    | 145/253 [01:22<01:02,  1.74it/s]"
          ],
          "name": "stderr"
        },
        {
          "output_type": "stream",
          "text": [
            "GCN loss on unlabled data: 0.7950876355171204\n",
            "GCN acc on unlabled data: 0.7764863656683058\n",
            "attack loss: 0.41827842593193054\n"
          ],
          "name": "stdout"
        },
        {
          "output_type": "stream",
          "text": [
            "\rPerturbing graph:  58%|█████▊    | 146/253 [01:23<01:01,  1.74it/s]"
          ],
          "name": "stderr"
        },
        {
          "output_type": "stream",
          "text": [
            "GCN loss on unlabled data: 0.7901297211647034\n",
            "GCN acc on unlabled data: 0.7706750111756817\n",
            "attack loss: 0.4157436192035675\n"
          ],
          "name": "stdout"
        },
        {
          "output_type": "stream",
          "text": [
            "\rPerturbing graph:  58%|█████▊    | 147/253 [01:23<01:00,  1.75it/s]"
          ],
          "name": "stderr"
        },
        {
          "output_type": "stream",
          "text": [
            "GCN loss on unlabled data: 0.7782302498817444\n",
            "GCN acc on unlabled data: 0.7711220384443451\n",
            "attack loss: 0.4057076573371887\n"
          ],
          "name": "stdout"
        },
        {
          "output_type": "stream",
          "text": [
            "\rPerturbing graph:  58%|█████▊    | 148/253 [01:24<01:00,  1.75it/s]"
          ],
          "name": "stderr"
        },
        {
          "output_type": "stream",
          "text": [
            "GCN loss on unlabled data: 0.8086270689964294\n",
            "GCN acc on unlabled data: 0.767545820295038\n",
            "attack loss: 0.4180598855018616\n"
          ],
          "name": "stdout"
        },
        {
          "output_type": "stream",
          "text": [
            "\rPerturbing graph:  59%|█████▉    | 149/253 [01:24<00:59,  1.75it/s]"
          ],
          "name": "stderr"
        },
        {
          "output_type": "stream",
          "text": [
            "GCN loss on unlabled data: 0.7848314642906189\n",
            "GCN acc on unlabled data: 0.7688869021010282\n",
            "attack loss: 0.3992701768875122\n"
          ],
          "name": "stdout"
        },
        {
          "output_type": "stream",
          "text": [
            "\rPerturbing graph:  59%|█████▉    | 150/253 [01:25<00:58,  1.76it/s]"
          ],
          "name": "stderr"
        },
        {
          "output_type": "stream",
          "text": [
            "GCN loss on unlabled data: 0.8122074604034424\n",
            "GCN acc on unlabled data: 0.761734465802414\n",
            "attack loss: 0.4215168356895447\n"
          ],
          "name": "stdout"
        },
        {
          "output_type": "stream",
          "text": [
            "\rPerturbing graph:  60%|█████▉    | 151/253 [01:26<00:57,  1.76it/s]"
          ],
          "name": "stderr"
        },
        {
          "output_type": "stream",
          "text": [
            "GCN loss on unlabled data: 0.8056238889694214\n",
            "GCN acc on unlabled data: 0.7679928475637015\n",
            "attack loss: 0.4184032678604126\n"
          ],
          "name": "stdout"
        },
        {
          "output_type": "stream",
          "text": [
            "\rPerturbing graph:  60%|██████    | 152/253 [01:26<00:57,  1.77it/s]"
          ],
          "name": "stderr"
        },
        {
          "output_type": "stream",
          "text": [
            "GCN loss on unlabled data: 0.8512279391288757\n",
            "GCN acc on unlabled data: 0.769780956638355\n",
            "attack loss: 0.4398362934589386\n"
          ],
          "name": "stdout"
        },
        {
          "output_type": "stream",
          "text": [
            "\rPerturbing graph:  60%|██████    | 153/253 [01:27<00:56,  1.78it/s]"
          ],
          "name": "stderr"
        },
        {
          "output_type": "stream",
          "text": [
            "GCN loss on unlabled data: 0.8328723907470703\n",
            "GCN acc on unlabled data: 0.7644166294143943\n",
            "attack loss: 0.42280739545822144\n"
          ],
          "name": "stdout"
        },
        {
          "output_type": "stream",
          "text": [
            "\rPerturbing graph:  61%|██████    | 154/253 [01:27<00:55,  1.80it/s]"
          ],
          "name": "stderr"
        },
        {
          "output_type": "stream",
          "text": [
            "GCN loss on unlabled data: 0.8950462341308594\n",
            "GCN acc on unlabled data: 0.7577112203844435\n",
            "attack loss: 0.46193280816078186\n"
          ],
          "name": "stdout"
        },
        {
          "output_type": "stream",
          "text": [
            "\rPerturbing graph:  61%|██████▏   | 155/253 [01:28<00:53,  1.82it/s]"
          ],
          "name": "stderr"
        },
        {
          "output_type": "stream",
          "text": [
            "GCN loss on unlabled data: 0.8092276453971863\n",
            "GCN acc on unlabled data: 0.7621814930710774\n",
            "attack loss: 0.4157980680465698\n"
          ],
          "name": "stdout"
        },
        {
          "output_type": "stream",
          "text": [
            "\rPerturbing graph:  62%|██████▏   | 156/253 [01:28<00:52,  1.84it/s]"
          ],
          "name": "stderr"
        },
        {
          "output_type": "stream",
          "text": [
            "GCN loss on unlabled data: 0.8512423038482666\n",
            "GCN acc on unlabled data: 0.7572641931157801\n",
            "attack loss: 0.42262983322143555\n"
          ],
          "name": "stdout"
        },
        {
          "output_type": "stream",
          "text": [
            "\rPerturbing graph:  62%|██████▏   | 157/253 [01:29<00:52,  1.85it/s]"
          ],
          "name": "stderr"
        },
        {
          "output_type": "stream",
          "text": [
            "GCN loss on unlabled data: 0.8462434411048889\n",
            "GCN acc on unlabled data: 0.7635225748770675\n",
            "attack loss: 0.4314647912979126\n"
          ],
          "name": "stdout"
        },
        {
          "output_type": "stream",
          "text": [
            "\rPerturbing graph:  62%|██████▏   | 158/253 [01:29<00:51,  1.84it/s]"
          ],
          "name": "stderr"
        },
        {
          "output_type": "stream",
          "text": [
            "GCN loss on unlabled data: 0.8389856815338135\n",
            "GCN acc on unlabled data: 0.7666517657577112\n",
            "attack loss: 0.44061240553855896\n"
          ],
          "name": "stdout"
        },
        {
          "output_type": "stream",
          "text": [
            "\rPerturbing graph:  63%|██████▎   | 159/253 [01:30<00:51,  1.83it/s]"
          ],
          "name": "stderr"
        },
        {
          "output_type": "stream",
          "text": [
            "GCN loss on unlabled data: 0.8393900394439697\n",
            "GCN acc on unlabled data: 0.7693339293696916\n",
            "attack loss: 0.43098124861717224\n"
          ],
          "name": "stdout"
        },
        {
          "output_type": "stream",
          "text": [
            "\rPerturbing graph:  63%|██████▎   | 160/253 [01:31<00:51,  1.81it/s]"
          ],
          "name": "stderr"
        },
        {
          "output_type": "stream",
          "text": [
            "GCN loss on unlabled data: 0.8724862337112427\n",
            "GCN acc on unlabled data: 0.7550290567724631\n",
            "attack loss: 0.4445801377296448\n"
          ],
          "name": "stdout"
        },
        {
          "output_type": "stream",
          "text": [
            "\rPerturbing graph:  64%|██████▎   | 161/253 [01:31<00:50,  1.81it/s]"
          ],
          "name": "stderr"
        },
        {
          "output_type": "stream",
          "text": [
            "GCN loss on unlabled data: 0.7828571796417236\n",
            "GCN acc on unlabled data: 0.769780956638355\n",
            "attack loss: 0.4230332374572754\n"
          ],
          "name": "stdout"
        },
        {
          "output_type": "stream",
          "text": [
            "\rPerturbing graph:  64%|██████▍   | 162/253 [01:32<00:50,  1.79it/s]"
          ],
          "name": "stderr"
        },
        {
          "output_type": "stream",
          "text": [
            "GCN loss on unlabled data: 0.8200958967208862\n",
            "GCN acc on unlabled data: 0.775592311130979\n",
            "attack loss: 0.4193503260612488\n"
          ],
          "name": "stdout"
        },
        {
          "output_type": "stream",
          "text": [
            "\rPerturbing graph:  64%|██████▍   | 163/253 [01:32<00:50,  1.79it/s]"
          ],
          "name": "stderr"
        },
        {
          "output_type": "stream",
          "text": [
            "GCN loss on unlabled data: 0.8707274794578552\n",
            "GCN acc on unlabled data: 0.7626285203397407\n",
            "attack loss: 0.45469745993614197\n"
          ],
          "name": "stdout"
        },
        {
          "output_type": "stream",
          "text": [
            "\rPerturbing graph:  65%|██████▍   | 164/253 [01:33<00:49,  1.78it/s]"
          ],
          "name": "stderr"
        },
        {
          "output_type": "stream",
          "text": [
            "GCN loss on unlabled data: 0.9027290344238281\n",
            "GCN acc on unlabled data: 0.7474295932051855\n",
            "attack loss: 0.46547016501426697\n"
          ],
          "name": "stdout"
        },
        {
          "output_type": "stream",
          "text": [
            "\rPerturbing graph:  65%|██████▌   | 165/253 [01:33<00:49,  1.77it/s]"
          ],
          "name": "stderr"
        },
        {
          "output_type": "stream",
          "text": [
            "GCN loss on unlabled data: 0.814016580581665\n",
            "GCN acc on unlabled data: 0.751452838623156\n",
            "attack loss: 0.426848828792572\n"
          ],
          "name": "stdout"
        },
        {
          "output_type": "stream",
          "text": [
            "\rPerturbing graph:  66%|██████▌   | 166/253 [01:34<00:49,  1.76it/s]"
          ],
          "name": "stderr"
        },
        {
          "output_type": "stream",
          "text": [
            "GCN loss on unlabled data: 0.8537713885307312\n",
            "GCN acc on unlabled data: 0.7541350022351364\n",
            "attack loss: 0.4490525722503662\n"
          ],
          "name": "stdout"
        },
        {
          "output_type": "stream",
          "text": [
            "\rPerturbing graph:  66%|██████▌   | 167/253 [01:35<00:49,  1.75it/s]"
          ],
          "name": "stderr"
        },
        {
          "output_type": "stream",
          "text": [
            "GCN loss on unlabled data: 0.834538459777832\n",
            "GCN acc on unlabled data: 0.7666517657577112\n",
            "attack loss: 0.4299868047237396\n"
          ],
          "name": "stdout"
        },
        {
          "output_type": "stream",
          "text": [
            "\rPerturbing graph:  66%|██████▋   | 168/253 [01:35<00:48,  1.74it/s]"
          ],
          "name": "stderr"
        },
        {
          "output_type": "stream",
          "text": [
            "GCN loss on unlabled data: 0.8757436871528625\n",
            "GCN acc on unlabled data: 0.7612874385337506\n",
            "attack loss: 0.4509325921535492\n"
          ],
          "name": "stdout"
        },
        {
          "output_type": "stream",
          "text": [
            "\rPerturbing graph:  67%|██████▋   | 169/253 [01:36<00:48,  1.73it/s]"
          ],
          "name": "stderr"
        },
        {
          "output_type": "stream",
          "text": [
            "GCN loss on unlabled data: 0.8590142726898193\n",
            "GCN acc on unlabled data: 0.7563701385784533\n",
            "attack loss: 0.4611935615539551\n"
          ],
          "name": "stdout"
        },
        {
          "output_type": "stream",
          "text": [
            "\rPerturbing graph:  67%|██████▋   | 170/253 [01:36<00:48,  1.73it/s]"
          ],
          "name": "stderr"
        },
        {
          "output_type": "stream",
          "text": [
            "GCN loss on unlabled data: 0.8511932492256165\n",
            "GCN acc on unlabled data: 0.761734465802414\n",
            "attack loss: 0.44470155239105225\n"
          ],
          "name": "stdout"
        },
        {
          "output_type": "stream",
          "text": [
            "\rPerturbing graph:  68%|██████▊   | 171/253 [01:37<00:47,  1.73it/s]"
          ],
          "name": "stderr"
        },
        {
          "output_type": "stream",
          "text": [
            "GCN loss on unlabled data: 0.8777306079864502\n",
            "GCN acc on unlabled data: 0.761734465802414\n",
            "attack loss: 0.4384995400905609\n"
          ],
          "name": "stdout"
        },
        {
          "output_type": "stream",
          "text": [
            "\rPerturbing graph:  68%|██████▊   | 172/253 [01:37<00:47,  1.72it/s]"
          ],
          "name": "stderr"
        },
        {
          "output_type": "stream",
          "text": [
            "GCN loss on unlabled data: 0.9015523791313171\n",
            "GCN acc on unlabled data: 0.7460885113991954\n",
            "attack loss: 0.44433361291885376\n"
          ],
          "name": "stdout"
        },
        {
          "output_type": "stream",
          "text": [
            "\rPerturbing graph:  68%|██████▊   | 173/253 [01:38<00:46,  1.72it/s]"
          ],
          "name": "stderr"
        },
        {
          "output_type": "stream",
          "text": [
            "GCN loss on unlabled data: 0.8648669123649597\n",
            "GCN acc on unlabled data: 0.7492177022798391\n",
            "attack loss: 0.4473751485347748\n"
          ],
          "name": "stdout"
        },
        {
          "output_type": "stream",
          "text": [
            "\rPerturbing graph:  69%|██████▉   | 174/253 [01:39<00:46,  1.72it/s]"
          ],
          "name": "stderr"
        },
        {
          "output_type": "stream",
          "text": [
            "GCN loss on unlabled data: 0.895384669303894\n",
            "GCN acc on unlabled data: 0.7550290567724631\n",
            "attack loss: 0.4672483503818512\n"
          ],
          "name": "stdout"
        },
        {
          "output_type": "stream",
          "text": [
            "\rPerturbing graph:  69%|██████▉   | 175/253 [01:39<00:45,  1.73it/s]"
          ],
          "name": "stderr"
        },
        {
          "output_type": "stream",
          "text": [
            "GCN loss on unlabled data: 0.8325487375259399\n",
            "GCN acc on unlabled data: 0.7608404112650872\n",
            "attack loss: 0.4237734377384186\n"
          ],
          "name": "stdout"
        },
        {
          "output_type": "stream",
          "text": [
            "\rPerturbing graph:  70%|██████▉   | 176/253 [01:40<00:44,  1.73it/s]"
          ],
          "name": "stderr"
        },
        {
          "output_type": "stream",
          "text": [
            "GCN loss on unlabled data: 0.9185101985931396\n",
            "GCN acc on unlabled data: 0.7581582476531069\n",
            "attack loss: 0.4751206338405609\n"
          ],
          "name": "stdout"
        },
        {
          "output_type": "stream",
          "text": [
            "\rPerturbing graph:  70%|██████▉   | 177/253 [01:40<00:43,  1.73it/s]"
          ],
          "name": "stderr"
        },
        {
          "output_type": "stream",
          "text": [
            "GCN loss on unlabled data: 0.8589209318161011\n",
            "GCN acc on unlabled data: 0.7572641931157801\n",
            "attack loss: 0.4418005049228668\n"
          ],
          "name": "stdout"
        },
        {
          "output_type": "stream",
          "text": [
            "\rPerturbing graph:  70%|███████   | 178/253 [01:41<00:43,  1.73it/s]"
          ],
          "name": "stderr"
        },
        {
          "output_type": "stream",
          "text": [
            "GCN loss on unlabled data: 0.9064303040504456\n",
            "GCN acc on unlabled data: 0.7501117568171659\n",
            "attack loss: 0.46999824047088623\n"
          ],
          "name": "stdout"
        },
        {
          "output_type": "stream",
          "text": [
            "\rPerturbing graph:  71%|███████   | 179/253 [01:41<00:42,  1.73it/s]"
          ],
          "name": "stderr"
        },
        {
          "output_type": "stream",
          "text": [
            "GCN loss on unlabled data: 0.9137141108512878\n",
            "GCN acc on unlabled data: 0.7501117568171659\n",
            "attack loss: 0.4794844686985016\n"
          ],
          "name": "stdout"
        },
        {
          "output_type": "stream",
          "text": [
            "\rPerturbing graph:  71%|███████   | 180/253 [01:42<00:42,  1.73it/s]"
          ],
          "name": "stderr"
        },
        {
          "output_type": "stream",
          "text": [
            "GCN loss on unlabled data: 0.9464394450187683\n",
            "GCN acc on unlabled data: 0.7447474295932052\n",
            "attack loss: 0.5046936869621277\n"
          ],
          "name": "stdout"
        },
        {
          "output_type": "stream",
          "text": [
            "\rPerturbing graph:  72%|███████▏  | 181/253 [01:43<00:41,  1.74it/s]"
          ],
          "name": "stderr"
        },
        {
          "output_type": "stream",
          "text": [
            "GCN loss on unlabled data: 0.9290564656257629\n",
            "GCN acc on unlabled data: 0.7407241841752347\n",
            "attack loss: 0.4626305401325226\n"
          ],
          "name": "stdout"
        },
        {
          "output_type": "stream",
          "text": [
            "\rPerturbing graph:  72%|███████▏  | 182/253 [01:43<00:41,  1.72it/s]"
          ],
          "name": "stderr"
        },
        {
          "output_type": "stream",
          "text": [
            "GCN loss on unlabled data: 0.8849078416824341\n",
            "GCN acc on unlabled data: 0.7554760840411265\n",
            "attack loss: 0.44880178570747375\n"
          ],
          "name": "stdout"
        },
        {
          "output_type": "stream",
          "text": [
            "\rPerturbing graph:  72%|███████▏  | 183/253 [01:44<00:41,  1.71it/s]"
          ],
          "name": "stderr"
        },
        {
          "output_type": "stream",
          "text": [
            "GCN loss on unlabled data: 0.9248005151748657\n",
            "GCN acc on unlabled data: 0.7438533750558785\n",
            "attack loss: 0.4784550964832306\n"
          ],
          "name": "stdout"
        },
        {
          "output_type": "stream",
          "text": [
            "\rPerturbing graph:  73%|███████▎  | 184/253 [01:44<00:40,  1.71it/s]"
          ],
          "name": "stderr"
        },
        {
          "output_type": "stream",
          "text": [
            "GCN loss on unlabled data: 0.9462449550628662\n",
            "GCN acc on unlabled data: 0.7496647295485025\n",
            "attack loss: 0.47437751293182373\n"
          ],
          "name": "stdout"
        },
        {
          "output_type": "stream",
          "text": [
            "\rPerturbing graph:  73%|███████▎  | 185/253 [01:45<00:39,  1.72it/s]"
          ],
          "name": "stderr"
        },
        {
          "output_type": "stream",
          "text": [
            "GCN loss on unlabled data: 0.9158862829208374\n",
            "GCN acc on unlabled data: 0.7505587840858292\n",
            "attack loss: 0.46991556882858276\n"
          ],
          "name": "stdout"
        },
        {
          "output_type": "stream",
          "text": [
            "\rPerturbing graph:  74%|███████▎  | 186/253 [01:46<00:39,  1.72it/s]"
          ],
          "name": "stderr"
        },
        {
          "output_type": "stream",
          "text": [
            "GCN loss on unlabled data: 0.8579795956611633\n",
            "GCN acc on unlabled data: 0.7541350022351364\n",
            "attack loss: 0.4371832609176636\n"
          ],
          "name": "stdout"
        },
        {
          "output_type": "stream",
          "text": [
            "\rPerturbing graph:  74%|███████▍  | 187/253 [01:46<00:38,  1.72it/s]"
          ],
          "name": "stderr"
        },
        {
          "output_type": "stream",
          "text": [
            "GCN loss on unlabled data: 0.9436781406402588\n",
            "GCN acc on unlabled data: 0.747876620473849\n",
            "attack loss: 0.48654723167419434\n"
          ],
          "name": "stdout"
        },
        {
          "output_type": "stream",
          "text": [
            "\rPerturbing graph:  74%|███████▍  | 188/253 [01:47<00:37,  1.71it/s]"
          ],
          "name": "stderr"
        },
        {
          "output_type": "stream",
          "text": [
            "GCN loss on unlabled data: 0.9402895569801331\n",
            "GCN acc on unlabled data: 0.7425122932498882\n",
            "attack loss: 0.47125235199928284\n"
          ],
          "name": "stdout"
        },
        {
          "output_type": "stream",
          "text": [
            "\rPerturbing graph:  75%|███████▍  | 189/253 [01:47<00:37,  1.72it/s]"
          ],
          "name": "stderr"
        },
        {
          "output_type": "stream",
          "text": [
            "GCN loss on unlabled data: 0.9533460140228271\n",
            "GCN acc on unlabled data: 0.7510058113544926\n",
            "attack loss: 0.47626394033432007\n"
          ],
          "name": "stdout"
        },
        {
          "output_type": "stream",
          "text": [
            "\rPerturbing graph:  75%|███████▌  | 190/253 [01:48<00:36,  1.72it/s]"
          ],
          "name": "stderr"
        },
        {
          "output_type": "stream",
          "text": [
            "GCN loss on unlabled data: 0.9370296001434326\n",
            "GCN acc on unlabled data: 0.7550290567724631\n",
            "attack loss: 0.47260698676109314\n"
          ],
          "name": "stdout"
        },
        {
          "output_type": "stream",
          "text": [
            "\rPerturbing graph:  75%|███████▌  | 191/253 [01:48<00:35,  1.73it/s]"
          ],
          "name": "stderr"
        },
        {
          "output_type": "stream",
          "text": [
            "GCN loss on unlabled data: 0.9742210507392883\n",
            "GCN acc on unlabled data: 0.743406347787215\n",
            "attack loss: 0.49923646450042725\n"
          ],
          "name": "stdout"
        },
        {
          "output_type": "stream",
          "text": [
            "\rPerturbing graph:  76%|███████▌  | 192/253 [01:49<00:35,  1.73it/s]"
          ],
          "name": "stderr"
        },
        {
          "output_type": "stream",
          "text": [
            "GCN loss on unlabled data: 0.9759838581085205\n",
            "GCN acc on unlabled data: 0.739830129637908\n",
            "attack loss: 0.4895303249359131\n"
          ],
          "name": "stdout"
        },
        {
          "output_type": "stream",
          "text": [
            "\rPerturbing graph:  76%|███████▋  | 193/253 [01:50<00:34,  1.73it/s]"
          ],
          "name": "stderr"
        },
        {
          "output_type": "stream",
          "text": [
            "GCN loss on unlabled data: 0.9212538003921509\n",
            "GCN acc on unlabled data: 0.7460885113991954\n",
            "attack loss: 0.4620787501335144\n"
          ],
          "name": "stdout"
        },
        {
          "output_type": "stream",
          "text": [
            "\rPerturbing graph:  77%|███████▋  | 194/253 [01:50<00:33,  1.74it/s]"
          ],
          "name": "stderr"
        },
        {
          "output_type": "stream",
          "text": [
            "GCN loss on unlabled data: 0.9432938694953918\n",
            "GCN acc on unlabled data: 0.7443004023245419\n",
            "attack loss: 0.46843719482421875\n"
          ],
          "name": "stdout"
        },
        {
          "output_type": "stream",
          "text": [
            "\rPerturbing graph:  77%|███████▋  | 195/253 [01:51<00:33,  1.74it/s]"
          ],
          "name": "stderr"
        },
        {
          "output_type": "stream",
          "text": [
            "GCN loss on unlabled data: 0.9557475447654724\n",
            "GCN acc on unlabled data: 0.7313366115333035\n",
            "attack loss: 0.4985182285308838\n"
          ],
          "name": "stdout"
        },
        {
          "output_type": "stream",
          "text": [
            "\rPerturbing graph:  77%|███████▋  | 196/253 [01:51<00:32,  1.74it/s]"
          ],
          "name": "stderr"
        },
        {
          "output_type": "stream",
          "text": [
            "GCN loss on unlabled data: 0.9339543581008911\n",
            "GCN acc on unlabled data: 0.7527939204291462\n",
            "attack loss: 0.4821050763130188\n"
          ],
          "name": "stdout"
        },
        {
          "output_type": "stream",
          "text": [
            "\rPerturbing graph:  78%|███████▊  | 197/253 [01:52<00:32,  1.73it/s]"
          ],
          "name": "stderr"
        },
        {
          "output_type": "stream",
          "text": [
            "GCN loss on unlabled data: 0.9354991912841797\n",
            "GCN acc on unlabled data: 0.7429593205185516\n",
            "attack loss: 0.4853878915309906\n"
          ],
          "name": "stdout"
        },
        {
          "output_type": "stream",
          "text": [
            "\rPerturbing graph:  78%|███████▊  | 198/253 [01:52<00:31,  1.73it/s]"
          ],
          "name": "stderr"
        },
        {
          "output_type": "stream",
          "text": [
            "GCN loss on unlabled data: 0.9709094762802124\n",
            "GCN acc on unlabled data: 0.7335717478766205\n",
            "attack loss: 0.498149573802948\n"
          ],
          "name": "stdout"
        },
        {
          "output_type": "stream",
          "text": [
            "\rPerturbing graph:  79%|███████▊  | 199/253 [01:53<00:31,  1.72it/s]"
          ],
          "name": "stderr"
        },
        {
          "output_type": "stream",
          "text": [
            "GCN loss on unlabled data: 0.9629580974578857\n",
            "GCN acc on unlabled data: 0.747876620473849\n",
            "attack loss: 0.47950103878974915\n"
          ],
          "name": "stdout"
        },
        {
          "output_type": "stream",
          "text": [
            "\rPerturbing graph:  79%|███████▉  | 200/253 [01:54<00:30,  1.72it/s]"
          ],
          "name": "stderr"
        },
        {
          "output_type": "stream",
          "text": [
            "GCN loss on unlabled data: 0.8979675769805908\n",
            "GCN acc on unlabled data: 0.745641484130532\n",
            "attack loss: 0.467645525932312\n"
          ],
          "name": "stdout"
        },
        {
          "output_type": "stream",
          "text": [
            "\rPerturbing graph:  79%|███████▉  | 201/253 [01:54<00:30,  1.73it/s]"
          ],
          "name": "stderr"
        },
        {
          "output_type": "stream",
          "text": [
            "GCN loss on unlabled data: 0.913834810256958\n",
            "GCN acc on unlabled data: 0.7443004023245419\n",
            "attack loss: 0.4844318926334381\n"
          ],
          "name": "stdout"
        },
        {
          "output_type": "stream",
          "text": [
            "\rPerturbing graph:  80%|███████▉  | 202/253 [01:55<00:29,  1.73it/s]"
          ],
          "name": "stderr"
        },
        {
          "output_type": "stream",
          "text": [
            "GCN loss on unlabled data: 0.9318156838417053\n",
            "GCN acc on unlabled data: 0.7393831023692445\n",
            "attack loss: 0.4927506744861603\n"
          ],
          "name": "stdout"
        },
        {
          "output_type": "stream",
          "text": [
            "\rPerturbing graph:  80%|████████  | 203/253 [01:55<00:28,  1.75it/s]"
          ],
          "name": "stderr"
        },
        {
          "output_type": "stream",
          "text": [
            "GCN loss on unlabled data: 0.9388580918312073\n",
            "GCN acc on unlabled data: 0.751452838623156\n",
            "attack loss: 0.491843044757843\n"
          ],
          "name": "stdout"
        },
        {
          "output_type": "stream",
          "text": [
            "\rPerturbing graph:  81%|████████  | 204/253 [01:56<00:27,  1.77it/s]"
          ],
          "name": "stderr"
        },
        {
          "output_type": "stream",
          "text": [
            "GCN loss on unlabled data: 0.9726013541221619\n",
            "GCN acc on unlabled data: 0.7443004023245419\n",
            "attack loss: 0.49623602628707886\n"
          ],
          "name": "stdout"
        },
        {
          "output_type": "stream",
          "text": [
            "\rPerturbing graph:  81%|████████  | 205/253 [01:56<00:27,  1.78it/s]"
          ],
          "name": "stderr"
        },
        {
          "output_type": "stream",
          "text": [
            "GCN loss on unlabled data: 0.9533184170722961\n",
            "GCN acc on unlabled data: 0.739830129637908\n",
            "attack loss: 0.4915846884250641\n"
          ],
          "name": "stdout"
        },
        {
          "output_type": "stream",
          "text": [
            "\rPerturbing graph:  81%|████████▏ | 206/253 [01:57<00:26,  1.80it/s]"
          ],
          "name": "stderr"
        },
        {
          "output_type": "stream",
          "text": [
            "GCN loss on unlabled data: 0.998242974281311\n",
            "GCN acc on unlabled data: 0.7496647295485025\n",
            "attack loss: 0.5146497488021851\n"
          ],
          "name": "stdout"
        },
        {
          "output_type": "stream",
          "text": [
            "\rPerturbing graph:  82%|████████▏ | 207/253 [01:58<00:25,  1.81it/s]"
          ],
          "name": "stderr"
        },
        {
          "output_type": "stream",
          "text": [
            "GCN loss on unlabled data: 0.9576295614242554\n",
            "GCN acc on unlabled data: 0.7469825659365221\n",
            "attack loss: 0.500792920589447\n"
          ],
          "name": "stdout"
        },
        {
          "output_type": "stream",
          "text": [
            "\rPerturbing graph:  82%|████████▏ | 208/253 [01:58<00:24,  1.84it/s]"
          ],
          "name": "stderr"
        },
        {
          "output_type": "stream",
          "text": [
            "GCN loss on unlabled data: 0.970792293548584\n",
            "GCN acc on unlabled data: 0.7420652659812249\n",
            "attack loss: 0.4885323643684387\n"
          ],
          "name": "stdout"
        },
        {
          "output_type": "stream",
          "text": [
            "\rPerturbing graph:  83%|████████▎ | 209/253 [01:59<00:23,  1.84it/s]"
          ],
          "name": "stderr"
        },
        {
          "output_type": "stream",
          "text": [
            "GCN loss on unlabled data: 0.9808124303817749\n",
            "GCN acc on unlabled data: 0.7393831023692445\n",
            "attack loss: 0.506626307964325\n"
          ],
          "name": "stdout"
        },
        {
          "output_type": "stream",
          "text": [
            "\rPerturbing graph:  83%|████████▎ | 210/253 [01:59<00:23,  1.82it/s]"
          ],
          "name": "stderr"
        },
        {
          "output_type": "stream",
          "text": [
            "GCN loss on unlabled data: 0.9806674718856812\n",
            "GCN acc on unlabled data: 0.7322306660706304\n",
            "attack loss: 0.5154654383659363\n"
          ],
          "name": "stdout"
        },
        {
          "output_type": "stream",
          "text": [
            "\rPerturbing graph:  83%|████████▎ | 211/253 [02:00<00:23,  1.81it/s]"
          ],
          "name": "stderr"
        },
        {
          "output_type": "stream",
          "text": [
            "GCN loss on unlabled data: 1.0120590925216675\n",
            "GCN acc on unlabled data: 0.7384890478319178\n",
            "attack loss: 0.5324749946594238\n"
          ],
          "name": "stdout"
        },
        {
          "output_type": "stream",
          "text": [
            "\rPerturbing graph:  84%|████████▍ | 212/253 [02:00<00:22,  1.79it/s]"
          ],
          "name": "stderr"
        },
        {
          "output_type": "stream",
          "text": [
            "GCN loss on unlabled data: 1.0293563604354858\n",
            "GCN acc on unlabled data: 0.735359856951274\n",
            "attack loss: 0.5251598358154297\n"
          ],
          "name": "stdout"
        },
        {
          "output_type": "stream",
          "text": [
            "\rPerturbing graph:  84%|████████▍ | 213/253 [02:01<00:22,  1.78it/s]"
          ],
          "name": "stderr"
        },
        {
          "output_type": "stream",
          "text": [
            "GCN loss on unlabled data: 1.0061326026916504\n",
            "GCN acc on unlabled data: 0.7389360751005811\n",
            "attack loss: 0.5337991714477539\n"
          ],
          "name": "stdout"
        },
        {
          "output_type": "stream",
          "text": [
            "\rPerturbing graph:  85%|████████▍ | 214/253 [02:01<00:21,  1.78it/s]"
          ],
          "name": "stderr"
        },
        {
          "output_type": "stream",
          "text": [
            "GCN loss on unlabled data: 0.9577036499977112\n",
            "GCN acc on unlabled data: 0.7469825659365221\n",
            "attack loss: 0.507289469242096\n"
          ],
          "name": "stdout"
        },
        {
          "output_type": "stream",
          "text": [
            "\rPerturbing graph:  85%|████████▍ | 215/253 [02:02<00:21,  1.77it/s]"
          ],
          "name": "stderr"
        },
        {
          "output_type": "stream",
          "text": [
            "GCN loss on unlabled data: 0.9859659075737\n",
            "GCN acc on unlabled data: 0.7429593205185516\n",
            "attack loss: 0.5044442415237427\n"
          ],
          "name": "stdout"
        },
        {
          "output_type": "stream",
          "text": [
            "\rPerturbing graph:  85%|████████▌ | 216/253 [02:03<00:20,  1.77it/s]"
          ],
          "name": "stderr"
        },
        {
          "output_type": "stream",
          "text": [
            "GCN loss on unlabled data: 1.0319125652313232\n",
            "GCN acc on unlabled data: 0.7358068842199375\n",
            "attack loss: 0.5320658087730408\n"
          ],
          "name": "stdout"
        },
        {
          "output_type": "stream",
          "text": [
            "\rPerturbing graph:  86%|████████▌ | 217/253 [02:03<00:20,  1.76it/s]"
          ],
          "name": "stderr"
        },
        {
          "output_type": "stream",
          "text": [
            "GCN loss on unlabled data: 1.0230493545532227\n",
            "GCN acc on unlabled data: 0.7425122932498882\n",
            "attack loss: 0.5239968299865723\n"
          ],
          "name": "stdout"
        },
        {
          "output_type": "stream",
          "text": [
            "\rPerturbing graph:  86%|████████▌ | 218/253 [02:04<00:19,  1.75it/s]"
          ],
          "name": "stderr"
        },
        {
          "output_type": "stream",
          "text": [
            "GCN loss on unlabled data: 1.0412930250167847\n",
            "GCN acc on unlabled data: 0.7179257934734019\n",
            "attack loss: 0.5403831005096436\n"
          ],
          "name": "stdout"
        },
        {
          "output_type": "stream",
          "text": [
            "\rPerturbing graph:  87%|████████▋ | 219/253 [02:04<00:19,  1.74it/s]"
          ],
          "name": "stderr"
        },
        {
          "output_type": "stream",
          "text": [
            "GCN loss on unlabled data: 1.0413739681243896\n",
            "GCN acc on unlabled data: 0.7367009387572642\n",
            "attack loss: 0.5350815057754517\n"
          ],
          "name": "stdout"
        },
        {
          "output_type": "stream",
          "text": [
            "\rPerturbing graph:  87%|████████▋ | 220/253 [02:05<00:18,  1.74it/s]"
          ],
          "name": "stderr"
        },
        {
          "output_type": "stream",
          "text": [
            "GCN loss on unlabled data: 0.9615137577056885\n",
            "GCN acc on unlabled data: 0.7322306660706304\n",
            "attack loss: 0.5086449980735779\n"
          ],
          "name": "stdout"
        },
        {
          "output_type": "stream",
          "text": [
            "\rPerturbing graph:  87%|████████▋ | 221/253 [02:05<00:18,  1.74it/s]"
          ],
          "name": "stderr"
        },
        {
          "output_type": "stream",
          "text": [
            "GCN loss on unlabled data: 0.9780393242835999\n",
            "GCN acc on unlabled data: 0.739830129637908\n",
            "attack loss: 0.5134374499320984\n"
          ],
          "name": "stdout"
        },
        {
          "output_type": "stream",
          "text": [
            "\rPerturbing graph:  88%|████████▊ | 222/253 [02:06<00:17,  1.74it/s]"
          ],
          "name": "stderr"
        },
        {
          "output_type": "stream",
          "text": [
            "GCN loss on unlabled data: 0.9985347390174866\n",
            "GCN acc on unlabled data: 0.7313366115333035\n",
            "attack loss: 0.5210989713668823\n"
          ],
          "name": "stdout"
        },
        {
          "output_type": "stream",
          "text": [
            "\rPerturbing graph:  88%|████████▊ | 223/253 [02:07<00:17,  1.74it/s]"
          ],
          "name": "stderr"
        },
        {
          "output_type": "stream",
          "text": [
            "GCN loss on unlabled data: 1.0531965494155884\n",
            "GCN acc on unlabled data: 0.72954850245865\n",
            "attack loss: 0.549101710319519\n"
          ],
          "name": "stdout"
        },
        {
          "output_type": "stream",
          "text": [
            "\rPerturbing graph:  89%|████████▊ | 224/253 [02:07<00:16,  1.72it/s]"
          ],
          "name": "stderr"
        },
        {
          "output_type": "stream",
          "text": [
            "GCN loss on unlabled data: 0.9704141020774841\n",
            "GCN acc on unlabled data: 0.7308895842646401\n",
            "attack loss: 0.5129603147506714\n"
          ],
          "name": "stdout"
        },
        {
          "output_type": "stream",
          "text": [
            "\rPerturbing graph:  89%|████████▉ | 225/253 [02:08<00:16,  1.72it/s]"
          ],
          "name": "stderr"
        },
        {
          "output_type": "stream",
          "text": [
            "GCN loss on unlabled data: 0.9648587107658386\n",
            "GCN acc on unlabled data: 0.7371479660259276\n",
            "attack loss: 0.5104342699050903\n"
          ],
          "name": "stdout"
        },
        {
          "output_type": "stream",
          "text": [
            "\rPerturbing graph:  89%|████████▉ | 226/253 [02:08<00:15,  1.71it/s]"
          ],
          "name": "stderr"
        },
        {
          "output_type": "stream",
          "text": [
            "GCN loss on unlabled data: 1.0296149253845215\n",
            "GCN acc on unlabled data: 0.735359856951274\n",
            "attack loss: 0.5258641839027405\n"
          ],
          "name": "stdout"
        },
        {
          "output_type": "stream",
          "text": [
            "\rPerturbing graph:  90%|████████▉ | 227/253 [02:09<00:15,  1.72it/s]"
          ],
          "name": "stderr"
        },
        {
          "output_type": "stream",
          "text": [
            "GCN loss on unlabled data: 1.0762501955032349\n",
            "GCN acc on unlabled data: 0.7232901206973625\n",
            "attack loss: 0.5532371401786804\n"
          ],
          "name": "stdout"
        },
        {
          "output_type": "stream",
          "text": [
            "\rPerturbing graph:  90%|█████████ | 228/253 [02:10<00:14,  1.72it/s]"
          ],
          "name": "stderr"
        },
        {
          "output_type": "stream",
          "text": [
            "GCN loss on unlabled data: 1.0305169820785522\n",
            "GCN acc on unlabled data: 0.7331247206079571\n",
            "attack loss: 0.5306621789932251\n"
          ],
          "name": "stdout"
        },
        {
          "output_type": "stream",
          "text": [
            "\rPerturbing graph:  91%|█████████ | 229/253 [02:10<00:13,  1.73it/s]"
          ],
          "name": "stderr"
        },
        {
          "output_type": "stream",
          "text": [
            "GCN loss on unlabled data: 1.0593336820602417\n",
            "GCN acc on unlabled data: 0.721502011622709\n",
            "attack loss: 0.5491427183151245\n"
          ],
          "name": "stdout"
        },
        {
          "output_type": "stream",
          "text": [
            "\rPerturbing graph:  91%|█████████ | 230/253 [02:11<00:13,  1.73it/s]"
          ],
          "name": "stderr"
        },
        {
          "output_type": "stream",
          "text": [
            "GCN loss on unlabled data: 1.029672622680664\n",
            "GCN acc on unlabled data: 0.7326776933392937\n",
            "attack loss: 0.5369166731834412\n"
          ],
          "name": "stdout"
        },
        {
          "output_type": "stream",
          "text": [
            "\rPerturbing graph:  91%|█████████▏| 231/253 [02:11<00:12,  1.74it/s]"
          ],
          "name": "stderr"
        },
        {
          "output_type": "stream",
          "text": [
            "GCN loss on unlabled data: 1.0335044860839844\n",
            "GCN acc on unlabled data: 0.7349128296826106\n",
            "attack loss: 0.5462881326675415\n"
          ],
          "name": "stdout"
        },
        {
          "output_type": "stream",
          "text": [
            "\rPerturbing graph:  92%|█████████▏| 232/253 [02:12<00:12,  1.74it/s]"
          ],
          "name": "stderr"
        },
        {
          "output_type": "stream",
          "text": [
            "GCN loss on unlabled data: 1.0571155548095703\n",
            "GCN acc on unlabled data: 0.7326776933392937\n",
            "attack loss: 0.5544930100440979\n"
          ],
          "name": "stdout"
        },
        {
          "output_type": "stream",
          "text": [
            "\rPerturbing graph:  92%|█████████▏| 233/253 [02:12<00:11,  1.74it/s]"
          ],
          "name": "stderr"
        },
        {
          "output_type": "stream",
          "text": [
            "GCN loss on unlabled data: 1.0423603057861328\n",
            "GCN acc on unlabled data: 0.7286544479213232\n",
            "attack loss: 0.5457392930984497\n"
          ],
          "name": "stdout"
        },
        {
          "output_type": "stream",
          "text": [
            "\rPerturbing graph:  92%|█████████▏| 234/253 [02:13<00:10,  1.74it/s]"
          ],
          "name": "stderr"
        },
        {
          "output_type": "stream",
          "text": [
            "GCN loss on unlabled data: 0.9705255627632141\n",
            "GCN acc on unlabled data: 0.7282074206526599\n",
            "attack loss: 0.5063087344169617\n"
          ],
          "name": "stdout"
        },
        {
          "output_type": "stream",
          "text": [
            "\rPerturbing graph:  93%|█████████▎| 235/253 [02:14<00:10,  1.74it/s]"
          ],
          "name": "stderr"
        },
        {
          "output_type": "stream",
          "text": [
            "GCN loss on unlabled data: 1.0848400592803955\n",
            "GCN acc on unlabled data: 0.7291014751899866\n",
            "attack loss: 0.5579094290733337\n"
          ],
          "name": "stdout"
        },
        {
          "output_type": "stream",
          "text": [
            "\rPerturbing graph:  93%|█████████▎| 236/253 [02:14<00:09,  1.76it/s]"
          ],
          "name": "stderr"
        },
        {
          "output_type": "stream",
          "text": [
            "GCN loss on unlabled data: 1.0450456142425537\n",
            "GCN acc on unlabled data: 0.7268663388466696\n",
            "attack loss: 0.5484461784362793\n"
          ],
          "name": "stdout"
        },
        {
          "output_type": "stream",
          "text": [
            "\rPerturbing graph:  94%|█████████▎| 237/253 [02:15<00:09,  1.77it/s]"
          ],
          "name": "stderr"
        },
        {
          "output_type": "stream",
          "text": [
            "GCN loss on unlabled data: 1.104060173034668\n",
            "GCN acc on unlabled data: 0.723737147966026\n",
            "attack loss: 0.5579054355621338\n"
          ],
          "name": "stdout"
        },
        {
          "output_type": "stream",
          "text": [
            "\rPerturbing graph:  94%|█████████▍| 238/253 [02:15<00:08,  1.78it/s]"
          ],
          "name": "stderr"
        },
        {
          "output_type": "stream",
          "text": [
            "GCN loss on unlabled data: 1.0367202758789062\n",
            "GCN acc on unlabled data: 0.7286544479213232\n",
            "attack loss: 0.5415813326835632\n"
          ],
          "name": "stdout"
        },
        {
          "output_type": "stream",
          "text": [
            "\rPerturbing graph:  94%|█████████▍| 239/253 [02:16<00:07,  1.78it/s]"
          ],
          "name": "stderr"
        },
        {
          "output_type": "stream",
          "text": [
            "GCN loss on unlabled data: 1.0706623792648315\n",
            "GCN acc on unlabled data: 0.7246312025033528\n",
            "attack loss: 0.562808096408844\n"
          ],
          "name": "stdout"
        },
        {
          "output_type": "stream",
          "text": [
            "\rPerturbing graph:  95%|█████████▍| 240/253 [02:16<00:07,  1.79it/s]"
          ],
          "name": "stderr"
        },
        {
          "output_type": "stream",
          "text": [
            "GCN loss on unlabled data: 1.015244960784912\n",
            "GCN acc on unlabled data: 0.723737147966026\n",
            "attack loss: 0.5407223701477051\n"
          ],
          "name": "stdout"
        },
        {
          "output_type": "stream",
          "text": [
            "\rPerturbing graph:  95%|█████████▌| 241/253 [02:17<00:06,  1.81it/s]"
          ],
          "name": "stderr"
        },
        {
          "output_type": "stream",
          "text": [
            "GCN loss on unlabled data: 1.109479308128357\n",
            "GCN acc on unlabled data: 0.7304425569959768\n",
            "attack loss: 0.5872800946235657\n"
          ],
          "name": "stdout"
        },
        {
          "output_type": "stream",
          "text": [
            "\rPerturbing graph:  96%|█████████▌| 242/253 [02:17<00:06,  1.83it/s]"
          ],
          "name": "stderr"
        },
        {
          "output_type": "stream",
          "text": [
            "GCN loss on unlabled data: 1.0836888551712036\n",
            "GCN acc on unlabled data: 0.7282074206526599\n",
            "attack loss: 0.5672810077667236\n"
          ],
          "name": "stdout"
        },
        {
          "output_type": "stream",
          "text": [
            "\rPerturbing graph:  96%|█████████▌| 243/253 [02:18<00:05,  1.84it/s]"
          ],
          "name": "stderr"
        },
        {
          "output_type": "stream",
          "text": [
            "GCN loss on unlabled data: 1.1115076541900635\n",
            "GCN acc on unlabled data: 0.72954850245865\n",
            "attack loss: 0.5615661144256592\n"
          ],
          "name": "stdout"
        },
        {
          "output_type": "stream",
          "text": [
            "\rPerturbing graph:  96%|█████████▋| 244/253 [02:18<00:04,  1.84it/s]"
          ],
          "name": "stderr"
        },
        {
          "output_type": "stream",
          "text": [
            "GCN loss on unlabled data: 1.048803448677063\n",
            "GCN acc on unlabled data: 0.7331247206079571\n",
            "attack loss: 0.5613176226615906\n"
          ],
          "name": "stdout"
        },
        {
          "output_type": "stream",
          "text": [
            "\rPerturbing graph:  97%|█████████▋| 245/253 [02:19<00:04,  1.84it/s]"
          ],
          "name": "stderr"
        },
        {
          "output_type": "stream",
          "text": [
            "GCN loss on unlabled data: 1.074220061302185\n",
            "GCN acc on unlabled data: 0.7210549843540456\n",
            "attack loss: 0.5557013154029846\n"
          ],
          "name": "stdout"
        },
        {
          "output_type": "stream",
          "text": [
            "\rPerturbing graph:  97%|█████████▋| 246/253 [02:20<00:03,  1.83it/s]"
          ],
          "name": "stderr"
        },
        {
          "output_type": "stream",
          "text": [
            "GCN loss on unlabled data: 1.1175881624221802\n",
            "GCN acc on unlabled data: 0.7228430934286991\n",
            "attack loss: 0.5706932544708252\n"
          ],
          "name": "stdout"
        },
        {
          "output_type": "stream",
          "text": [
            "\rPerturbing graph:  98%|█████████▊| 247/253 [02:20<00:03,  1.81it/s]"
          ],
          "name": "stderr"
        },
        {
          "output_type": "stream",
          "text": [
            "GCN loss on unlabled data: 1.0937143564224243\n",
            "GCN acc on unlabled data: 0.731783638801967\n",
            "attack loss: 0.5649906992912292\n"
          ],
          "name": "stdout"
        },
        {
          "output_type": "stream",
          "text": [
            "\rPerturbing graph:  98%|█████████▊| 248/253 [02:21<00:02,  1.79it/s]"
          ],
          "name": "stderr"
        },
        {
          "output_type": "stream",
          "text": [
            "GCN loss on unlabled data: 1.078121304512024\n",
            "GCN acc on unlabled data: 0.7259722843093429\n",
            "attack loss: 0.5734252333641052\n"
          ],
          "name": "stdout"
        },
        {
          "output_type": "stream",
          "text": [
            "\rPerturbing graph:  98%|█████████▊| 249/253 [02:21<00:02,  1.78it/s]"
          ],
          "name": "stderr"
        },
        {
          "output_type": "stream",
          "text": [
            "GCN loss on unlabled data: 1.0087478160858154\n",
            "GCN acc on unlabled data: 0.7286544479213232\n",
            "attack loss: 0.5363682508468628\n"
          ],
          "name": "stdout"
        },
        {
          "output_type": "stream",
          "text": [
            "\rPerturbing graph:  99%|█████████▉| 250/253 [02:22<00:01,  1.77it/s]"
          ],
          "name": "stderr"
        },
        {
          "output_type": "stream",
          "text": [
            "GCN loss on unlabled data: 1.1562978029251099\n",
            "GCN acc on unlabled data: 0.721502011622709\n",
            "attack loss: 0.5887331962585449\n"
          ],
          "name": "stdout"
        },
        {
          "output_type": "stream",
          "text": [
            "\rPerturbing graph:  99%|█████████▉| 251/253 [02:22<00:01,  1.77it/s]"
          ],
          "name": "stderr"
        },
        {
          "output_type": "stream",
          "text": [
            "GCN loss on unlabled data: 1.095317006111145\n",
            "GCN acc on unlabled data: 0.727313366115333\n",
            "attack loss: 0.5703168511390686\n"
          ],
          "name": "stdout"
        },
        {
          "output_type": "stream",
          "text": [
            "\rPerturbing graph: 100%|█████████▉| 252/253 [02:23<00:00,  1.75it/s]"
          ],
          "name": "stderr"
        },
        {
          "output_type": "stream",
          "text": [
            "GCN loss on unlabled data: 1.0648193359375\n",
            "GCN acc on unlabled data: 0.7241841752346894\n",
            "attack loss: 0.5568647980690002\n"
          ],
          "name": "stdout"
        },
        {
          "output_type": "stream",
          "text": [
            "Perturbing graph: 100%|██████████| 253/253 [02:24<00:00,  1.76it/s]\n"
          ],
          "name": "stderr"
        }
      ]
    },
    {
      "cell_type": "code",
      "metadata": {
        "id": "4Boadi_5wGuX",
        "outputId": "ae1e4856-9e4f-47b2-e21b-a055c48a59f1",
        "colab": {
          "base_uri": "https://localhost:8080/"
        }
      },
      "source": [
        ""
      ],
      "execution_count": 5,
      "outputs": [
        {
          "output_type": "execute_result",
          "data": {
            "text/plain": [
              "tensor([[0., 0., 0.,  ..., 0., 0., 0.],\n",
              "        [0., 0., 0.,  ..., 0., 0., 0.],\n",
              "        [0., 0., 0.,  ..., 0., 0., 0.],\n",
              "        ...,\n",
              "        [0., 0., 0.,  ..., 0., 0., 0.],\n",
              "        [0., 0., 0.,  ..., 0., 0., 0.],\n",
              "        [0., 0., 0.,  ..., 0., 0., 0.]], device='cuda:0')"
            ]
          },
          "metadata": {
            "tags": []
          },
          "execution_count": 5
        }
      ]
    },
    {
      "cell_type": "code",
      "metadata": {
        "id": "SgXrOxcrwJEl",
        "outputId": "2f3f4d35-a6da-4e3d-9a70-63d9fc7bd540",
        "colab": {
          "base_uri": "https://localhost:8080/"
        }
      },
      "source": [
        ""
      ],
      "execution_count": 7,
      "outputs": [
        {
          "output_type": "stream",
          "text": [
            "/bin/bash: line 0: cd: code/graph_attack: No such file or directory\n",
            "/bin/bash: ./run_dqn.sh: No such file or directory\n"
          ],
          "name": "stdout"
        }
      ]
    },
    {
      "cell_type": "code",
      "metadata": {
        "id": "ae6d9Ia2wQxB"
      },
      "source": [
        ""
      ],
      "execution_count": null,
      "outputs": []
    }
  ]
}